{
 "cells": [
  {
   "cell_type": "code",
   "execution_count": 1,
   "id": "1d7cd333",
   "metadata": {
    "scrolled": true
   },
   "outputs": [],
   "source": [
    "import os \n",
    "import re\n",
    "import torch\n",
    "from torchvision import datasets\n",
    "import torchvision.transforms as transforms\n",
    "from skimage.measure import compare_psnr\n",
    "import numpy as np\n",
    "import argparse\n",
    "import os\n",
    "from utlis import *\n",
    "from tqdm.notebook import tqdm\n",
    "from inv_models import Generator \n",
    "import math\n",
    "import yaml\n",
    "import warnings\n",
    "import matplotlib.pyplot as plt\n",
    "warnings.filterwarnings(\"ignore\")"
   ]
  },
  {
   "cell_type": "markdown",
   "id": "e448f6d5",
   "metadata": {},
   "source": [
    "## Optimization Code"
   ]
  },
  {
   "cell_type": "code",
   "execution_count": 2,
   "id": "faf4f909",
   "metadata": {},
   "outputs": [],
   "source": [
    "class MultiOptimizer(torch.nn.Module):\n",
    "    def __init__(self,configs,z_num,perc_m):\n",
    "        super().__init__()\n",
    "        \n",
    "        self.configs=configs\n",
    "        self.perc_m=perc_m\n",
    "        self.z_num=z_num\n",
    "        device = self.configs['device']\n",
    "        \n",
    "        # Load Models \n",
    "\n",
    "        gen=Generator(in_channel=256, input_code_dim=512, pixel_norm=True)\n",
    "        gen.load_state_dict(torch.load(self.configs['ckpt'])[\"g_ema\"], strict=True)\n",
    "\n",
    "        self.gen=gen.to(device)\n",
    "\n",
    "        self.init_state()\n",
    "\n",
    "    def init_state(self):\n",
    "            \n",
    "        self.best = None\n",
    "        self.current_step = 0\n",
    "        device = self.configs['device']\n",
    "\n",
    "        perc = self.perc_m / 100\n",
    "        m = int(perc * (3 * self.configs['image_size'] ** 2))\n",
    "        ## Make Filters \n",
    "        self.indices = torch.tensor(np.random.choice(np.arange(256 * 256 * 3), m, replace=False))\n",
    "        self.filters = torch.ones((256 *  256 * 3), device=device).normal_().unsqueeze(0).to(device).requires_grad_()\n",
    "        self.sign_pattern = (torch.rand(256 * 256 * 3) >\n",
    "                                0.5).type(torch.int32).to(device)\n",
    "        self.sign_pattern = 2 * self.sign_pattern - 1\n",
    "        bs = self.configs['batch_size']\n",
    "        #Make latent codes\n",
    "        self.latent_z = torch.randn((self.z_num, bs, 512),\n",
    "                            dtype=torch.float,\n",
    "                            requires_grad=True, device=device)\n",
    "        if self.configs['inv_method']=='rtil':\n",
    "            # Make intermediate distribution based on training algo\n",
    "\n",
    "            alpha_list=[]\n",
    "            for _ in range(bs):\n",
    "                alpha=torch.from_numpy(np.outer(np.random.dirichlet(np.ones(self.z_num)),np.ones(256))).type(dtype=torch.FloatTensor).to(device)\n",
    "                alpha_list.append(alpha)\n",
    "            dist=torch.cat(alpha_list,dim=0).reshape(bs,self.z_num,256)\n",
    "\n",
    "            alpha_list.clear()\n",
    "\n",
    "            self.alpha=dist.requires_grad_()\n",
    "        else:\n",
    "            self.latent_z = torch.randn((self.z_num, bs, 512),\n",
    "                            dtype=torch.float,\n",
    "                            requires_grad=True, device=device)\n",
    "            \n",
    "            self.alpha=torch.full((bs,self.z_num,256),1/256).to(device).requires_grad_()\n",
    "        \n",
    "    def get_lr(self, t, initial_lr, rampdown=0.75, rampup=0.05):\n",
    "        lr_ramp = min(1, (1 - t) / rampdown)\n",
    "        lr_ramp = 0.5 - 0.5 * math.cos(lr_ramp * math.pi)\n",
    "        lr_ramp = lr_ramp * min(1, t / rampup)\n",
    "        return initial_lr * lr_ramp\n",
    "\n",
    "    def invert_(self,img):\n",
    "        self.img=img\n",
    "        learning_rate = self.configs['lr']\n",
    "        with torch.no_grad():\n",
    "            var_list = [self.latent_z,self.alpha] \n",
    "            \n",
    "        if self.configs['inv_method']=='rtil':\n",
    "            optimizer = torch.optim.Adam(var_list, lr=learning_rate)\n",
    "        else:\n",
    "             optimizer = torch.optim.SGD(var_list, lr=learning_rate)\n",
    "            \n",
    "        pbar = tqdm(range(self.configs['steps']))\n",
    "        \n",
    "        mse_min = np.inf\n",
    "        mse_loss = 0\n",
    "        reference_loss = 0\n",
    "        for i in pbar:\n",
    "            t=i/self.configs['steps']\n",
    "            lr = self.get_lr(t, learning_rate)\n",
    "            optimizer.param_groups[0][\"lr\"] = lr\n",
    "            img_gen= self.gen(self.latent_z,self.alpha,self.z_num,self.configs)\n",
    "            loss=0\n",
    "            \n",
    "            real_obsv = partial_circulant_torch(img, self.filters, self.indices,self.sign_pattern)\n",
    "            gen_obsv = partial_circulant_torch(img_gen, self.filters, self.indices,self.sign_pattern)\n",
    "            \n",
    "            mse_loss = F.mse_loss(real_obsv,gen_obsv).mean()\n",
    "            reference_vector = img \n",
    "            \n",
    "            loss += mse_loss\n",
    "            \n",
    "            if reference_vector is not None:\n",
    "                reference_loss = F.mse_loss(img_gen, reference_vector)\n",
    "            \n",
    "            optimizer.zero_grad()\n",
    "            loss.backward()\n",
    "            optimizer.step()\n",
    "            if (reference_vector is not None) and self.configs['save_on_ref'] and reference_loss < mse_min:\n",
    "                mse_min = reference_loss\n",
    "                self.best = img_gen.detach().cpu()\n",
    "            elif mse_loss < mse_min:\n",
    "                mse_min = mse_loss\n",
    "                self.best = img_gen.detach().cpu()\n",
    "            pbar.set_description(\n",
    "                (f\"mse: {mse_loss:.4f};\"\n",
    "                f\" ref: {reference_loss:.4f};\"))\n",
    "\n",
    "    def invert(self,reference_vector=None):\n",
    "        self.invert_(reference_vector)\n",
    "        return self.img.cpu().numpy().transpose(0,2,3,1),self.best.cpu().numpy().transpose(0,2,3,1)\n"
   ]
  },
  {
   "cell_type": "markdown",
   "id": "4178d7fd",
   "metadata": {},
   "source": [
    "## mganprior-RTIL"
   ]
  },
  {
   "cell_type": "code",
   "execution_count": 3,
   "id": "4182c612",
   "metadata": {},
   "outputs": [
    {
     "name": "stdout",
     "output_type": "stream",
     "text": [
      "********** Number of Latent Codes 20 **********\n",
      "********** Percentage of Measurements 25 **********\n"
     ]
    },
    {
     "data": {
      "application/vnd.jupyter.widget-view+json": {
       "model_id": "aaa685e15e7c41f3a9740fcd5b2fedd9",
       "version_major": 2,
       "version_minor": 0
      },
      "text/plain": [
       "  0%|          | 0/2500 [00:00<?, ?it/s]"
      ]
     },
     "metadata": {},
     "output_type": "display_data"
    },
    {
     "name": "stdout",
     "output_type": "stream",
     "text": [
      "********** PSNR Per image 30.824723870290526 **********\n"
     ]
    },
    {
     "data": {
      "application/vnd.jupyter.widget-view+json": {
       "model_id": "bf1e7c683185476985f68754e2219151",
       "version_major": 2,
       "version_minor": 0
      },
      "text/plain": [
       "  0%|          | 0/2500 [00:00<?, ?it/s]"
      ]
     },
     "metadata": {},
     "output_type": "display_data"
    },
    {
     "name": "stdout",
     "output_type": "stream",
     "text": [
      "********** PSNR Per image 33.74145474654517 **********\n"
     ]
    },
    {
     "data": {
      "application/vnd.jupyter.widget-view+json": {
       "model_id": "b69d0ee66c1d4f79afba9b8d1888f31f",
       "version_major": 2,
       "version_minor": 0
      },
      "text/plain": [
       "  0%|          | 0/2500 [00:00<?, ?it/s]"
      ]
     },
     "metadata": {},
     "output_type": "display_data"
    },
    {
     "name": "stdout",
     "output_type": "stream",
     "text": [
      "********** PSNR Per image 32.580954864432094 **********\n",
      "********** Percentage of Measurements End of Experiment 25 **********\n",
      "********** Percentage of Measurements 25 **********\n",
      "********** PSNR 32.382377827089265 **********\n",
      "********** Percentage of Measurements 10 **********\n"
     ]
    },
    {
     "data": {
      "application/vnd.jupyter.widget-view+json": {
       "model_id": "95e819f5ac8e472abdff1b9d650559ae",
       "version_major": 2,
       "version_minor": 0
      },
      "text/plain": [
       "  0%|          | 0/2500 [00:00<?, ?it/s]"
      ]
     },
     "metadata": {},
     "output_type": "display_data"
    },
    {
     "name": "stdout",
     "output_type": "stream",
     "text": [
      "********** PSNR Per image 29.77574593373953 **********\n"
     ]
    },
    {
     "data": {
      "application/vnd.jupyter.widget-view+json": {
       "model_id": "7b861afccfb0469a8a150d1be63347e3",
       "version_major": 2,
       "version_minor": 0
      },
      "text/plain": [
       "  0%|          | 0/2500 [00:00<?, ?it/s]"
      ]
     },
     "metadata": {},
     "output_type": "display_data"
    },
    {
     "name": "stdout",
     "output_type": "stream",
     "text": [
      "********** PSNR Per image 32.95356969405254 **********\n"
     ]
    },
    {
     "data": {
      "application/vnd.jupyter.widget-view+json": {
       "model_id": "057ca5d58d5c4c5e9956977f00e1d1ae",
       "version_major": 2,
       "version_minor": 0
      },
      "text/plain": [
       "  0%|          | 0/2500 [00:00<?, ?it/s]"
      ]
     },
     "metadata": {},
     "output_type": "display_data"
    },
    {
     "name": "stdout",
     "output_type": "stream",
     "text": [
      "********** PSNR Per image 32.47680106426635 **********\n",
      "********** Percentage of Measurements End of Experiment 10 **********\n",
      "********** Percentage of Measurements 10 **********\n",
      "********** PSNR 31.73537223068614 **********\n",
      "********** Percentage of Measurements 1 **********\n"
     ]
    },
    {
     "data": {
      "application/vnd.jupyter.widget-view+json": {
       "model_id": "1407b26d2c344f6e8ce858cf24a5799e",
       "version_major": 2,
       "version_minor": 0
      },
      "text/plain": [
       "  0%|          | 0/2500 [00:00<?, ?it/s]"
      ]
     },
     "metadata": {},
     "output_type": "display_data"
    },
    {
     "name": "stdout",
     "output_type": "stream",
     "text": [
      "********** PSNR Per image 23.281627398692923 **********\n"
     ]
    },
    {
     "data": {
      "application/vnd.jupyter.widget-view+json": {
       "model_id": "38eacb937fab4841bd5cf2b32082020e",
       "version_major": 2,
       "version_minor": 0
      },
      "text/plain": [
       "  0%|          | 0/2500 [00:00<?, ?it/s]"
      ]
     },
     "metadata": {},
     "output_type": "display_data"
    },
    {
     "name": "stdout",
     "output_type": "stream",
     "text": [
      "********** PSNR Per image 26.94111381065094 **********\n"
     ]
    },
    {
     "data": {
      "application/vnd.jupyter.widget-view+json": {
       "model_id": "2de83637b2b84c10bfca62f40ffdc13c",
       "version_major": 2,
       "version_minor": 0
      },
      "text/plain": [
       "  0%|          | 0/2500 [00:00<?, ?it/s]"
      ]
     },
     "metadata": {},
     "output_type": "display_data"
    },
    {
     "name": "stdout",
     "output_type": "stream",
     "text": [
      "********** PSNR Per image 26.45604641229167 **********\n",
      "********** Percentage of Measurements End of Experiment 1 **********\n",
      "********** Percentage of Measurements 1 **********\n",
      "********** PSNR 25.55959587387851 **********\n"
     ]
    }
   ],
   "source": [
    "with open('config.yaml') as f:\n",
    "    configs = yaml.safe_load(f)\n",
    "Rtil_configs=configs.get('Rtil')\n",
    "trans = transforms.Compose([transforms.Resize((Rtil_configs['image_size'])),transforms.ToTensor()])\n",
    "test_dataset    = datasets.ImageFolder(Rtil_configs['test_set'], transform=trans)\n",
    "test_dataloader = torch.utils.data.DataLoader(test_dataset,batch_size=Rtil_configs['batch_size'],drop_last=False,shuffle=False)\n",
    "for z_num in Rtil_configs['z_num']:\n",
    "    print('*'*10,'Number of Latent Codes',z_num,'*'*10)\n",
    "    for measurements in Rtil_configs['perc_m']:\n",
    "        original=[]\n",
    "        recovered=[]\n",
    "        print('*'*10,'Percentage of Measurements',measurements,'*'*10)\n",
    "        for i, data in enumerate(test_dataloader):\n",
    "            multi=MultiOptimizer(Rtil_configs,z_num,measurements)\n",
    "            img=data[0].to(Rtil_configs['device'])\n",
    "            org,rec=multi.invert(img)\n",
    "            original.append(org)\n",
    "            recovered.append(np.clip(rec,0,1))\n",
    "            psnr_img=compare_psnr(original[i], recovered[i])\n",
    "            print('*'*10,'PSNR Per image',psnr_img,'*'*10)\n",
    "            torch.cuda.empty_cache()\n",
    "        Original  = np.vstack(original)\n",
    "        Recovered = np.vstack(recovered)\n",
    "        print('*'*10,'Percentage of Measurements End of Experiment',measurements,'*'*10)\n",
    "        psnr      = [compare_psnr(x, y) for x,y in zip(Original, Recovered)]\n",
    "        print('*'*10,'Percentage of Measurements',measurements,'*'*10)\n",
    "        print('*'*10,'PSNR',np.mean(psnr),'*'*10)\n",
    "        original.clear()\n",
    "        recovered.clear()\n",
    "        path=Rtil_configs['save_folder']\n",
    "        if not os.path.exists(path):\n",
    "            os.makedirs(path)\n",
    "\n",
    "        np.save(path+\"/original.npy\", Original)\n",
    "        np.save(path+\"/recovered_\"+ str(measurements)+ \"%\" + \".npy\", Recovered)\n",
    "        np.save(path+\"/psnr_\" + str(measurements)+ \"%\" + \".npy\",np.mean(psnr))\n"
   ]
  },
  {
   "cell_type": "markdown",
   "id": "9a1e6435",
   "metadata": {},
   "source": [
    "## mganprior "
   ]
  },
  {
   "cell_type": "code",
   "execution_count": 4,
   "id": "749f4a75",
   "metadata": {},
   "outputs": [
    {
     "name": "stdout",
     "output_type": "stream",
     "text": [
      "********** Number of Latent Codes 20 **********\n",
      "********** Percentage of Measurements 25 **********\n"
     ]
    },
    {
     "data": {
      "application/vnd.jupyter.widget-view+json": {
       "model_id": "d6524398b2b44dd8b67bf9df56c914e3",
       "version_major": 2,
       "version_minor": 0
      },
      "text/plain": [
       "  0%|          | 0/2500 [00:00<?, ?it/s]"
      ]
     },
     "metadata": {},
     "output_type": "display_data"
    },
    {
     "name": "stdout",
     "output_type": "stream",
     "text": [
      "********** PSNR Per image 28.558298904459946 **********\n"
     ]
    },
    {
     "data": {
      "application/vnd.jupyter.widget-view+json": {
       "model_id": "adcd35cfa83f4bdf91875268fca21dac",
       "version_major": 2,
       "version_minor": 0
      },
      "text/plain": [
       "  0%|          | 0/2500 [00:00<?, ?it/s]"
      ]
     },
     "metadata": {},
     "output_type": "display_data"
    },
    {
     "name": "stdout",
     "output_type": "stream",
     "text": [
      "********** PSNR Per image 31.7248018987477 **********\n"
     ]
    },
    {
     "data": {
      "application/vnd.jupyter.widget-view+json": {
       "model_id": "0fad57ec218345679ec67b205f2f6b62",
       "version_major": 2,
       "version_minor": 0
      },
      "text/plain": [
       "  0%|          | 0/2500 [00:00<?, ?it/s]"
      ]
     },
     "metadata": {},
     "output_type": "display_data"
    },
    {
     "name": "stdout",
     "output_type": "stream",
     "text": [
      "********** PSNR Per image 31.720503047473652 **********\n",
      "********** Percentage of Measurements End of Experiment 25 **********\n",
      "********** Percentage of Measurements 25 **********\n",
      "********** PSNR 30.6678679502271 **********\n",
      "********** Percentage of Measurements 10 **********\n"
     ]
    },
    {
     "data": {
      "application/vnd.jupyter.widget-view+json": {
       "model_id": "3a0c6b786f3d4712a9f2bcaaadfdc988",
       "version_major": 2,
       "version_minor": 0
      },
      "text/plain": [
       "  0%|          | 0/2500 [00:00<?, ?it/s]"
      ]
     },
     "metadata": {},
     "output_type": "display_data"
    },
    {
     "name": "stdout",
     "output_type": "stream",
     "text": [
      "********** PSNR Per image 28.516202056496482 **********\n"
     ]
    },
    {
     "data": {
      "application/vnd.jupyter.widget-view+json": {
       "model_id": "7d1440bb0021459799857c25fbc6a1df",
       "version_major": 2,
       "version_minor": 0
      },
      "text/plain": [
       "  0%|          | 0/2500 [00:00<?, ?it/s]"
      ]
     },
     "metadata": {},
     "output_type": "display_data"
    },
    {
     "name": "stdout",
     "output_type": "stream",
     "text": [
      "********** PSNR Per image 31.63006433661007 **********\n"
     ]
    },
    {
     "data": {
      "application/vnd.jupyter.widget-view+json": {
       "model_id": "5734d9d2c2f548c6a1c21e74ae522a0d",
       "version_major": 2,
       "version_minor": 0
      },
      "text/plain": [
       "  0%|          | 0/2500 [00:00<?, ?it/s]"
      ]
     },
     "metadata": {},
     "output_type": "display_data"
    },
    {
     "name": "stdout",
     "output_type": "stream",
     "text": [
      "********** PSNR Per image 31.14724403944242 **********\n",
      "********** Percentage of Measurements End of Experiment 10 **********\n",
      "********** Percentage of Measurements 10 **********\n",
      "********** PSNR 30.43117014418299 **********\n",
      "********** Percentage of Measurements 1 **********\n"
     ]
    },
    {
     "data": {
      "application/vnd.jupyter.widget-view+json": {
       "model_id": "46c17921b62342d68e0d2fb9c6bee03e",
       "version_major": 2,
       "version_minor": 0
      },
      "text/plain": [
       "  0%|          | 0/2500 [00:00<?, ?it/s]"
      ]
     },
     "metadata": {},
     "output_type": "display_data"
    },
    {
     "name": "stdout",
     "output_type": "stream",
     "text": [
      "********** PSNR Per image 23.887395427311844 **********\n"
     ]
    },
    {
     "data": {
      "application/vnd.jupyter.widget-view+json": {
       "model_id": "d8edde18beb147de9f36541e0bfd9cab",
       "version_major": 2,
       "version_minor": 0
      },
      "text/plain": [
       "  0%|          | 0/2500 [00:00<?, ?it/s]"
      ]
     },
     "metadata": {},
     "output_type": "display_data"
    },
    {
     "name": "stdout",
     "output_type": "stream",
     "text": [
      "********** PSNR Per image 27.46860765924392 **********\n"
     ]
    },
    {
     "data": {
      "application/vnd.jupyter.widget-view+json": {
       "model_id": "f1f46437b6f74e92ba36fb71a30e5a2d",
       "version_major": 2,
       "version_minor": 0
      },
      "text/plain": [
       "  0%|          | 0/2500 [00:00<?, ?it/s]"
      ]
     },
     "metadata": {},
     "output_type": "display_data"
    },
    {
     "name": "stdout",
     "output_type": "stream",
     "text": [
      "********** PSNR Per image 26.981479368998734 **********\n",
      "********** Percentage of Measurements End of Experiment 1 **********\n",
      "********** Percentage of Measurements 1 **********\n",
      "********** PSNR 26.112494151851497 **********\n"
     ]
    }
   ],
   "source": [
    "with open('config.yaml') as f:\n",
    "    configs = yaml.safe_load(f)\n",
    "van_configs=configs.get('Vanilla')\n",
    "trans = transforms.Compose([transforms.Resize((van_configs['image_size'])),transforms.ToTensor()])\n",
    "test_dataset    = datasets.ImageFolder(van_configs['test_set'], transform=trans)\n",
    "test_dataloader = torch.utils.data.DataLoader(test_dataset,batch_size=van_configs['batch_size'],drop_last=False,shuffle=False)\n",
    "for z_num in van_configs['z_num']:\n",
    "    print('*'*10,'Number of Latent Codes',z_num,'*'*10)\n",
    "    for measurements in van_configs['perc_m']:\n",
    "        original=[]\n",
    "        recovered=[]\n",
    "        print('*'*10,'Percentage of Measurements',measurements,'*'*10)\n",
    "        for i, data in enumerate(test_dataloader):\n",
    "            multi=MultiOptimizer(van_configs,z_num,measurements)\n",
    "            img=data[0].to(van_configs['device'])\n",
    "            org,rec=multi.invert(img)\n",
    "            original.append(org)\n",
    "            recovered.append(np.clip(rec,0,1))\n",
    "            psnr_img=compare_psnr(original[i], recovered[i])\n",
    "            print('*'*10,'PSNR Per image',psnr_img,'*'*10)\n",
    "            torch.cuda.empty_cache()\n",
    "        Original  = np.vstack(original)\n",
    "        Recovered = np.vstack(recovered)\n",
    "        print('*'*10,'Percentage of Measurements End of Experiment',measurements,'*'*10)\n",
    "        psnr      = [compare_psnr(x, y) for x,y in zip(Original, Recovered)]\n",
    "        print('*'*10,'Percentage of Measurements',measurements,'*'*10)\n",
    "        print('*'*10,'PSNR',np.mean(psnr),'*'*10)\n",
    "        original.clear()\n",
    "        recovered.clear()\n",
    "        path=van_configs['save_folder']\n",
    "        if not os.path.exists(path):\n",
    "            os.makedirs(path)\n",
    "\n",
    "        np.save(path+\"/original.npy\", Original)\n",
    "        np.save(path+\"/recovered_\"+ str(measurements)+ \"%\" + \".npy\", Recovered)\n",
    "        np.save(path+\"/psnr_\" + str(measurements)+ \"%\" + \".npy\",np.mean(psnr))\n"
   ]
  },
  {
   "cell_type": "markdown",
   "id": "6da038e2",
   "metadata": {},
   "source": [
    "## Make Results"
   ]
  },
  {
   "cell_type": "code",
   "execution_count": 5,
   "id": "957c6991",
   "metadata": {},
   "outputs": [],
   "source": [
    "def get_psnr_results(direct):\n",
    "    results={}\n",
    "    myfiles = [myfile for myfile in os.listdir(direct) if myfile.startswith(\"psnr\")]\n",
    "    for files in myfiles:\n",
    "        psnr=np.load(direct + files)\n",
    "        no_meas=int(re.search(r'\\d+', files)[0])\n",
    "        results[no_meas]=psnr\n",
    "    return results "
   ]
  },
  {
   "cell_type": "code",
   "execution_count": 6,
   "id": "40fc8aa7",
   "metadata": {},
   "outputs": [
    {
     "data": {
      "image/png": "[encoded data removed]",
      "text/plain": [
       "<Figure size 612x468 with 1 Axes>"
      ]
     },
     "metadata": {
      "needs_background": "light"
     },
     "output_type": "display_data"
    }
   ],
   "source": [
    "fig = plt.gcf()\n",
    "fig.set_size_inches(8.5, 6.5)\n",
    "van_results=get_psnr_results('./results/van/')\n",
    "rtil_results=get_psnr_results('./results/rtil/')\n",
    "ilo = sorted(van_results.items(),reverse=True) \n",
    "rtil= sorted(rtil_results.items(),reverse=True) \n",
    "m, psnr_ilo = zip(*ilo) \n",
    "m, psnr_rtil = zip(*rtil) \n",
    "plt.plot(m, psnr_ilo,marker='o',markersize=12,label='ILO')\n",
    "plt.plot(m, psnr_rtil,marker='s',markersize=12,label='RTIL-ILO')\n",
    "plt.xlabel('Percentage of Measurements',fontsize=20)\n",
    "plt.ylabel('PSNR',fontsize=20)\n",
    "plt.legend()\n",
    "plt.grid()\n",
    "plt.title('Compressed Sensing with Circulant Matrices',fontsize=20)\n",
    "plt.tight_layout()\n",
    "plt.show()"
   ]
  },
  {
   "cell_type": "code",
   "execution_count": null,
   "id": "519d8f27",
   "metadata": {},
   "outputs": [],
   "source": []
  }
 ],
 "metadata": {
  "kernelspec": {
   "display_name": "Python 3 (ipykernel)",
   "language": "python",
   "name": "python3"
  },
  "language_info": {
   "codemirror_mode": {
    "name": "ipython",
    "version": 3
   },
   "file_extension": ".py",
   "mimetype": "text/x-python",
   "name": "python",
   "nbconvert_exporter": "python",
   "pygments_lexer": "ipython3",
   "version": "3.8.10"
  }
 },
 "nbformat": 4,
 "nbformat_minor": 5
}
