{
 "cells": [
  {
   "cell_type": "code",
   "execution_count": 1,
   "id": "5f0b13a9",
   "metadata": {},
   "outputs": [],
   "source": [
    "import os \n",
    "import re\n",
    "import torchvision\n",
    "import numpy as np\n",
    "import math\n",
    "import torch\n",
    "from inv_model import Generator\n",
    "from tqdm.notebook import tqdm\n",
    "from torchvision import datasets\n",
    "import torchvision.transforms as transforms\n",
    "from utils import *\n",
    "from skimage.measure import compare_psnr\n",
    "import matplotlib.pyplot as plt\n",
    "import yaml\n",
    "import warnings\n",
    "warnings.filterwarnings(\"ignore\")"
   ]
  },
  {
   "cell_type": "markdown",
   "id": "5fc853f9",
   "metadata": {},
   "source": [
    "## Optimization Code"
   ]
  },
  {
   "cell_type": "code",
   "execution_count": 2,
   "id": "0ce632d8",
   "metadata": {},
   "outputs": [],
   "source": [
    "def loss_geocross(latent):\n",
    "        if latent.size() == (1, 512):\n",
    "            return 0\n",
    "        else:\n",
    "            num_latents  = latent.size()[1]\n",
    "            X = latent.view(-1, 1, num_latents, 512)\n",
    "            Y = latent.view(-1, num_latents, 1, 512)\n",
    "            A = ((X - Y).pow(2).sum(-1) + 1e-9).sqrt()\n",
    "            B = ((X + Y).pow(2).sum(-1) + 1e-9).sqrt()\n",
    "            D = 2 * torch.atan2(A, B)\n",
    "            D = ((D.pow(2) * 512).mean((1, 2)) / 8.).mean()\n",
    "            return D\n",
    "\n",
    "class MappingProxy(torch.nn.Module):\n",
    "    def __init__(self,gaussian_ft):\n",
    "        super(MappingProxy,self).__init__()\n",
    "        self.mean = gaussian_ft[\"mean\"]\n",
    "        self.std = gaussian_ft[\"std\"]\n",
    "        self.lrelu = torch.nn.LeakyReLU(0.2)\n",
    "    def forward(self,x):\n",
    "        x = self.lrelu(self.std * x + self.mean)\n",
    "        return x\n",
    "\n",
    "class SphericalOptimizer():\n",
    "    def __init__(self, params):\n",
    "        self.params = params\n",
    "        with torch.no_grad():\n",
    "            self.radii = {param: (param.pow(2).sum(tuple(range(2,param.ndim)), keepdim=True)+1e-9).sqrt() for param in params}\n",
    "    @torch.no_grad()\n",
    "    def step(self, closure=None):\n",
    "        for param in self.params:\n",
    "            param.data.div_((param.pow(2).sum(tuple(range(2,param.ndim)), keepdim=True)+1e-9).sqrt())\n",
    "            param.mul_(self.radii[param])\n",
    "\n",
    "\n",
    "\n",
    "class LatentOptimizer(torch.nn.Module):\n",
    "    def __init__(self,configs,perc_m):\n",
    "        super().__init__()\n",
    "        self.configs = configs\n",
    "        self.perc_m=perc_m\n",
    "\n",
    "        device = self.configs['device']\n",
    "        gen = torch.nn.DataParallel(Generator(256, 512, 8),device_ids=[0])\n",
    "        gen.load_state_dict(torch.load(self.configs['ckpt'])[\"g_ema\"], strict=True)\n",
    "        gen.eval()\n",
    "        \n",
    "        self.gen = gen.module.to(device)\n",
    "        self.gen.start_layer = 0\n",
    "        self.gen.end_layer = self.configs['end_layer']\n",
    "        if self.configs['inv_method']=='rtil':\n",
    "            self.mpl = MappingProxy(torch.load('./pretrained/gauss_rtil.pt',map_location=device))\n",
    "        else:\n",
    "            self.mpl = MappingProxy(torch.load('./pretrained/gauss_van.pt',map_location=device))\n",
    "        self.init_state()\n",
    "\n",
    "    def init_state(self):\n",
    "        device = self.configs['device']\n",
    "        self.project = self.configs['project']\n",
    "        self.steps = self.configs['steps']\n",
    "\n",
    "        self.layer_in = None\n",
    "        self.best = None\n",
    "        self.current_step = 0\n",
    "\n",
    "    \n",
    "        # save filters\n",
    "        perc = self.perc_m / 100\n",
    "        m = int(perc * (3 * self.configs['image_size'] ** 2))\n",
    "\n",
    "        self.indices = torch.tensor(np.random.choice(np.arange(256 * 256 * 3), m, replace=False))\n",
    "        self.filters = torch.ones((256 *  256 * 3), device=device).normal_().unsqueeze(0).to(device)\n",
    "        self.sign_pattern = (torch.rand(256 * 256 * 3) >\n",
    "                            0.5).type(torch.int32).to(device)\n",
    "        self.sign_pattern = 2 * self.sign_pattern - 1\n",
    "        bs = self.configs['batch_size']\n",
    "        # initialization\n",
    "        noises_single = self.gen.make_noise(bs)\n",
    "        self.noises = []\n",
    "        for noise in noises_single:\n",
    "            self.noises.append(noise.normal_())\n",
    "            self.latent_z = torch.randn(\n",
    "                        (bs, 14, 512),\n",
    "                        dtype=torch.float,\n",
    "                        requires_grad=True, device=device)\n",
    "            self.gen_outs = [None]\n",
    " \n",
    "\n",
    "\n",
    "    def get_lr(self, t, initial_lr, rampdown=0.75, rampup=0.05):\n",
    "        lr_ramp = min(1, (1 - t) / rampdown)\n",
    "        lr_ramp = 0.5 - 0.5 * math.cos(lr_ramp * math.pi)\n",
    "        lr_ramp = lr_ramp * min(1, t / rampup)\n",
    "        return initial_lr * lr_ramp\n",
    "\n",
    "\n",
    "    def invert_(self,img, start_layer, noise_list, steps, index, reference_vector=None):\n",
    "        learning_rate = self.configs['lr'] [index]\n",
    "        print(f\"Running round {index + 1} / {len(self.configs['steps'])} of ILO.\")\n",
    "        # noise_list containts the indices of nodes that we will be optimizing over\n",
    "        for i in range(len(self.noises)):\n",
    "            if i in noise_list:\n",
    "                self.noises[i].requires_grad = True\n",
    "            else:\n",
    "                self.noises[i].requires_grad = False\n",
    "        with torch.no_grad():\n",
    "            if start_layer == 0:\n",
    "                var_list = [self.latent_z] + self.noises\n",
    "            else:\n",
    "                self.gen_outs[-1].requires_grad = True\n",
    "                var_list = [self.latent_z] + self.noises + [self.gen_outs[-1]]\n",
    "                prev_gen_out = torch.ones(self.gen_outs[-1].shape, device=self.gen_outs[-1].device) * self.gen_outs[-1]\n",
    "            prev_latent = torch.ones(self.latent_z.shape, device=self.latent_z.device) * self.latent_z\n",
    "            prev_noises = [torch.ones(noise.shape, device=noise.device) * noise for noise in\n",
    "                           self.noises]\n",
    "\n",
    "            # set network that we will be optimizing over\n",
    "            self.gen.start_layer = start_layer\n",
    "            self.gen.end_layer = self.configs['end_layer']\n",
    "\n",
    "        optimizer = torch.optim.Adam(var_list, lr=learning_rate)\n",
    "        ps = SphericalOptimizer([self.latent_z] + self.noises)\n",
    "        pbar = tqdm(range(steps))\n",
    "        self.current_step += steps\n",
    "\n",
    "        mse_min = np.inf\n",
    "\n",
    "        mse_loss = 0\n",
    "        reference_loss = 0\n",
    "        for i in pbar:\n",
    "            if self.configs['lr_same_pace']:\n",
    "                total_steps = sum(self.configs['steps'])\n",
    "                t = i / total_steps\n",
    "            else:\n",
    "                t = i / steps\n",
    "            lr = self.get_lr(t, learning_rate)\n",
    "            optimizer.param_groups[0][\"lr\"] = lr\n",
    "            latent_w = self.mpl(self.latent_z)\n",
    "            img_gen, _ = self.gen([latent_w],\n",
    "                                  input_is_latent=True,\n",
    "                                  noise=self.noises,\n",
    "                                  layer_in=self.gen_outs[-1],)\n",
    "  \n",
    "            \n",
    "            \n",
    "\n",
    "\n",
    "            #- Calculate loss                           -#\n",
    "            loss = 0\n",
    "            real_obsv = partial_circulant_torch(img, self.filters, self.indices,\n",
    "                                                   self.sign_pattern)\n",
    "            gen_obsv = partial_circulant_torch(img_gen, self.filters, self.indices,\n",
    "                                                   self.sign_pattern)\n",
    "            mse_loss = F.mse_loss(real_obsv, gen_obsv).mean()\n",
    "            reference_vector =img\n",
    "            loss += mse_loss\n",
    "            loss += self.configs['geocross']* loss_geocross(self.latent_z[2 * start_layer:])\n",
    "            if reference_vector is not None:\n",
    "                reference_loss = F.mse_loss(img_gen, reference_vector)\n",
    "\n",
    "            optimizer.zero_grad()\n",
    "            loss.backward()\n",
    "            optimizer.step()\n",
    "\n",
    "            if self.project:\n",
    "                ps.step()\n",
    "\n",
    "            if (reference_vector is not None) and self.configs['save_on_ref'] and reference_loss < mse_min:\n",
    "                mse_min = reference_loss\n",
    "                self.best = img_gen.detach().cpu().numpy().transpose(0,2,3,1)\n",
    "            elif mse_loss < mse_min:\n",
    "                mse_min = mse_loss\n",
    "                self.best = img_gen.detach().cpu().numpy().transpose(0,2,3,1)\n",
    "\n",
    "            pbar.set_description(\n",
    "                (\n",
    "                    f\" mse: {mse_loss:.4f};\"\n",
    "                    f\" img_mse: {reference_loss:.4f};\"\n",
    "                )\n",
    "            )\n",
    "        \n",
    "        with torch.no_grad():\n",
    "            latent_w = self.mpl(self.latent_z)\n",
    "            self.gen.end_layer = self.gen.start_layer\n",
    "            intermediate_out, _  = self.gen([latent_w],\n",
    "                                             input_is_latent=True,\n",
    "                                             noise=self.noises,\n",
    "                                             layer_in=self.gen_outs[-1],\n",
    "                                             skip=None)\n",
    "            self.gen_outs.append(intermediate_out)\n",
    "            self.gen.end_layer = self.configs['end_layer']\n",
    "\n",
    "    def invert(self,img,reference_vector=None):\n",
    "        for i, steps in enumerate(self.configs['steps']):\n",
    "            begin_from = i \n",
    "            if begin_from > self.configs['end_layer']:\n",
    "                raise Exception('Attempting to go after end layer...')\n",
    "            self.invert_(img,begin_from, range(5 + 2 * begin_from), int(steps), i, reference_vector)\n",
    "        return img.cpu().numpy().transpose(0,2,3,1), (self.latent_z, self.noises, self.gen_outs), self.best\n",
    "\n"
   ]
  },
  {
   "cell_type": "markdown",
   "id": "e497a58e",
   "metadata": {},
   "source": [
    "## ILO-RTIL"
   ]
  },
  {
   "cell_type": "code",
   "execution_count": 3,
   "id": "6e96f686",
   "metadata": {
    "scrolled": true
   },
   "outputs": [
    {
     "name": "stdout",
     "output_type": "stream",
     "text": [
      "********** Percentage of Measurements 10 **********\n",
      "Running round 1 / 5 of ILO.\n"
     ]
    },
    {
     "data": {
      "application/vnd.jupyter.widget-view+json": {
       "model_id": "3955ced9b6654fceacf5316d97f54c0b",
       "version_major": 2,
       "version_minor": 0
      },
      "text/plain": [
       "  0%|          | 0/2000 [00:00<?, ?it/s]"
      ]
     },
     "metadata": {},
     "output_type": "display_data"
    },
    {
     "name": "stdout",
     "output_type": "stream",
     "text": [
      "Running round 2 / 5 of ILO.\n"
     ]
    },
    {
     "data": {
      "application/vnd.jupyter.widget-view+json": {
       "model_id": "710c2386a11b4925a4a306119e879dbf",
       "version_major": 2,
       "version_minor": 0
      },
      "text/plain": [
       "  0%|          | 0/1000 [00:00<?, ?it/s]"
      ]
     },
     "metadata": {},
     "output_type": "display_data"
    },
    {
     "name": "stdout",
     "output_type": "stream",
     "text": [
      "Running round 3 / 5 of ILO.\n"
     ]
    },
    {
     "data": {
      "application/vnd.jupyter.widget-view+json": {
       "model_id": "0d37915c695d4141bb7427ab2f63d8c8",
       "version_major": 2,
       "version_minor": 0
      },
      "text/plain": [
       "  0%|          | 0/1000 [00:00<?, ?it/s]"
      ]
     },
     "metadata": {},
     "output_type": "display_data"
    },
    {
     "name": "stdout",
     "output_type": "stream",
     "text": [
      "Running round 4 / 5 of ILO.\n"
     ]
    },
    {
     "data": {
      "application/vnd.jupyter.widget-view+json": {
       "model_id": "95e0ebea0e7c48efaff7a690809b7497",
       "version_major": 2,
       "version_minor": 0
      },
      "text/plain": [
       "  0%|          | 0/1000 [00:00<?, ?it/s]"
      ]
     },
     "metadata": {},
     "output_type": "display_data"
    },
    {
     "name": "stdout",
     "output_type": "stream",
     "text": [
      "Running round 5 / 5 of ILO.\n"
     ]
    },
    {
     "data": {
      "application/vnd.jupyter.widget-view+json": {
       "model_id": "de6f5f5abe154bd3b66f4b846720b4fc",
       "version_major": 2,
       "version_minor": 0
      },
      "text/plain": [
       "  0%|          | 0/2000 [00:00<?, ?it/s]"
      ]
     },
     "metadata": {},
     "output_type": "display_data"
    },
    {
     "name": "stdout",
     "output_type": "stream",
     "text": [
      "********** PSNR Per image 35.03872687284109 **********\n",
      "Number of images recovered 1 Out of 3\n",
      "Running round 1 / 5 of ILO.\n"
     ]
    },
    {
     "data": {
      "application/vnd.jupyter.widget-view+json": {
       "model_id": "83a5ac5515b546868a46e4afb0fda5fa",
       "version_major": 2,
       "version_minor": 0
      },
      "text/plain": [
       "  0%|          | 0/2000 [00:00<?, ?it/s]"
      ]
     },
     "metadata": {},
     "output_type": "display_data"
    },
    {
     "name": "stdout",
     "output_type": "stream",
     "text": [
      "Running round 2 / 5 of ILO.\n"
     ]
    },
    {
     "data": {
      "application/vnd.jupyter.widget-view+json": {
       "model_id": "d0a48640e784445e937dac1247c5df55",
       "version_major": 2,
       "version_minor": 0
      },
      "text/plain": [
       "  0%|          | 0/1000 [00:00<?, ?it/s]"
      ]
     },
     "metadata": {},
     "output_type": "display_data"
    },
    {
     "name": "stdout",
     "output_type": "stream",
     "text": [
      "Running round 3 / 5 of ILO.\n"
     ]
    },
    {
     "data": {
      "application/vnd.jupyter.widget-view+json": {
       "model_id": "1344783ec24e450b8c0e14cc79f0b73d",
       "version_major": 2,
       "version_minor": 0
      },
      "text/plain": [
       "  0%|          | 0/1000 [00:00<?, ?it/s]"
      ]
     },
     "metadata": {},
     "output_type": "display_data"
    },
    {
     "name": "stdout",
     "output_type": "stream",
     "text": [
      "Running round 4 / 5 of ILO.\n"
     ]
    },
    {
     "data": {
      "application/vnd.jupyter.widget-view+json": {
       "model_id": "91705e371c1a409ba2decd733b8c64b2",
       "version_major": 2,
       "version_minor": 0
      },
      "text/plain": [
       "  0%|          | 0/1000 [00:00<?, ?it/s]"
      ]
     },
     "metadata": {},
     "output_type": "display_data"
    },
    {
     "name": "stdout",
     "output_type": "stream",
     "text": [
      "Running round 5 / 5 of ILO.\n"
     ]
    },
    {
     "data": {
      "application/vnd.jupyter.widget-view+json": {
       "model_id": "717ecf66a84544779623cc09d29bb009",
       "version_major": 2,
       "version_minor": 0
      },
      "text/plain": [
       "  0%|          | 0/2000 [00:00<?, ?it/s]"
      ]
     },
     "metadata": {},
     "output_type": "display_data"
    },
    {
     "name": "stdout",
     "output_type": "stream",
     "text": [
      "********** PSNR Per image 33.06008980553859 **********\n",
      "Number of images recovered 2 Out of 3\n",
      "Running round 1 / 5 of ILO.\n"
     ]
    },
    {
     "data": {
      "application/vnd.jupyter.widget-view+json": {
       "model_id": "5ba7409b63cb4e5ab4bfb62ebff70fb4",
       "version_major": 2,
       "version_minor": 0
      },
      "text/plain": [
       "  0%|          | 0/2000 [00:00<?, ?it/s]"
      ]
     },
     "metadata": {},
     "output_type": "display_data"
    },
    {
     "name": "stdout",
     "output_type": "stream",
     "text": [
      "Running round 2 / 5 of ILO.\n"
     ]
    },
    {
     "data": {
      "application/vnd.jupyter.widget-view+json": {
       "model_id": "785ba8824a6546f0ab57a47ea18a8543",
       "version_major": 2,
       "version_minor": 0
      },
      "text/plain": [
       "  0%|          | 0/1000 [00:00<?, ?it/s]"
      ]
     },
     "metadata": {},
     "output_type": "display_data"
    },
    {
     "name": "stdout",
     "output_type": "stream",
     "text": [
      "Running round 3 / 5 of ILO.\n"
     ]
    },
    {
     "data": {
      "application/vnd.jupyter.widget-view+json": {
       "model_id": "6b7cf215fa9442b29b46160f7d2b7c8e",
       "version_major": 2,
       "version_minor": 0
      },
      "text/plain": [
       "  0%|          | 0/1000 [00:00<?, ?it/s]"
      ]
     },
     "metadata": {},
     "output_type": "display_data"
    },
    {
     "name": "stdout",
     "output_type": "stream",
     "text": [
      "Running round 4 / 5 of ILO.\n"
     ]
    },
    {
     "data": {
      "application/vnd.jupyter.widget-view+json": {
       "model_id": "0d1fade7ae514750abfc09877c0dc94b",
       "version_major": 2,
       "version_minor": 0
      },
      "text/plain": [
       "  0%|          | 0/1000 [00:00<?, ?it/s]"
      ]
     },
     "metadata": {},
     "output_type": "display_data"
    },
    {
     "name": "stdout",
     "output_type": "stream",
     "text": [
      "Running round 5 / 5 of ILO.\n"
     ]
    },
    {
     "data": {
      "application/vnd.jupyter.widget-view+json": {
       "model_id": "d4075bd3adf54a219b070a32730c6a91",
       "version_major": 2,
       "version_minor": 0
      },
      "text/plain": [
       "  0%|          | 0/2000 [00:00<?, ?it/s]"
      ]
     },
     "metadata": {},
     "output_type": "display_data"
    },
    {
     "name": "stdout",
     "output_type": "stream",
     "text": [
      "********** PSNR Per image 33.82921391656644 **********\n",
      "Number of images recovered 3 Out of 3\n",
      "********** Percentage of Measurements End of Experiment 10 **********\n",
      "********** Percentage of Measurements 10 **********\n",
      "********** PSNR 33.97601019831537 **********\n",
      "********** Percentage of Measurements 5 **********\n",
      "Running round 1 / 5 of ILO.\n"
     ]
    },
    {
     "data": {
      "application/vnd.jupyter.widget-view+json": {
       "model_id": "334282b50dcf47b49f24a4ba8f9f3a14",
       "version_major": 2,
       "version_minor": 0
      },
      "text/plain": [
       "  0%|          | 0/2000 [00:00<?, ?it/s]"
      ]
     },
     "metadata": {},
     "output_type": "display_data"
    },
    {
     "name": "stdout",
     "output_type": "stream",
     "text": [
      "Running round 2 / 5 of ILO.\n"
     ]
    },
    {
     "data": {
      "application/vnd.jupyter.widget-view+json": {
       "model_id": "98809e22f41b4c12b4302846f9dc8c50",
       "version_major": 2,
       "version_minor": 0
      },
      "text/plain": [
       "  0%|          | 0/1000 [00:00<?, ?it/s]"
      ]
     },
     "metadata": {},
     "output_type": "display_data"
    },
    {
     "name": "stdout",
     "output_type": "stream",
     "text": [
      "Running round 3 / 5 of ILO.\n"
     ]
    },
    {
     "data": {
      "application/vnd.jupyter.widget-view+json": {
       "model_id": "56c8cc13f11545d79a06940352024aa6",
       "version_major": 2,
       "version_minor": 0
      },
      "text/plain": [
       "  0%|          | 0/1000 [00:00<?, ?it/s]"
      ]
     },
     "metadata": {},
     "output_type": "display_data"
    },
    {
     "name": "stdout",
     "output_type": "stream",
     "text": [
      "Running round 4 / 5 of ILO.\n"
     ]
    },
    {
     "data": {
      "application/vnd.jupyter.widget-view+json": {
       "model_id": "ee971cbf5a414801a7f30bcaa8e6d5ef",
       "version_major": 2,
       "version_minor": 0
      },
      "text/plain": [
       "  0%|          | 0/1000 [00:00<?, ?it/s]"
      ]
     },
     "metadata": {},
     "output_type": "display_data"
    },
    {
     "name": "stdout",
     "output_type": "stream",
     "text": [
      "Running round 5 / 5 of ILO.\n"
     ]
    },
    {
     "data": {
      "application/vnd.jupyter.widget-view+json": {
       "model_id": "34632a9fb28b43be884cc49e4d609ee7",
       "version_major": 2,
       "version_minor": 0
      },
      "text/plain": [
       "  0%|          | 0/2000 [00:00<?, ?it/s]"
      ]
     },
     "metadata": {},
     "output_type": "display_data"
    },
    {
     "name": "stdout",
     "output_type": "stream",
     "text": [
      "********** PSNR Per image 31.328505972647008 **********\n",
      "Number of images recovered 1 Out of 3\n",
      "Running round 1 / 5 of ILO.\n"
     ]
    },
    {
     "data": {
      "application/vnd.jupyter.widget-view+json": {
       "model_id": "c6a7f7e863c74ac4bf44aae823128d91",
       "version_major": 2,
       "version_minor": 0
      },
      "text/plain": [
       "  0%|          | 0/2000 [00:00<?, ?it/s]"
      ]
     },
     "metadata": {},
     "output_type": "display_data"
    },
    {
     "name": "stdout",
     "output_type": "stream",
     "text": [
      "Running round 2 / 5 of ILO.\n"
     ]
    },
    {
     "data": {
      "application/vnd.jupyter.widget-view+json": {
       "model_id": "227f64fefd17448e873b89b821495d4f",
       "version_major": 2,
       "version_minor": 0
      },
      "text/plain": [
       "  0%|          | 0/1000 [00:00<?, ?it/s]"
      ]
     },
     "metadata": {},
     "output_type": "display_data"
    },
    {
     "name": "stdout",
     "output_type": "stream",
     "text": [
      "Running round 3 / 5 of ILO.\n"
     ]
    },
    {
     "data": {
      "application/vnd.jupyter.widget-view+json": {
       "model_id": "21139fa7a68c4b12ba051d6c4dfa54f1",
       "version_major": 2,
       "version_minor": 0
      },
      "text/plain": [
       "  0%|          | 0/1000 [00:00<?, ?it/s]"
      ]
     },
     "metadata": {},
     "output_type": "display_data"
    },
    {
     "name": "stdout",
     "output_type": "stream",
     "text": [
      "Running round 4 / 5 of ILO.\n"
     ]
    },
    {
     "data": {
      "application/vnd.jupyter.widget-view+json": {
       "model_id": "a4f0bd5e317041d7a0369810320b07d0",
       "version_major": 2,
       "version_minor": 0
      },
      "text/plain": [
       "  0%|          | 0/1000 [00:00<?, ?it/s]"
      ]
     },
     "metadata": {},
     "output_type": "display_data"
    },
    {
     "name": "stdout",
     "output_type": "stream",
     "text": [
      "Running round 5 / 5 of ILO.\n"
     ]
    },
    {
     "data": {
      "application/vnd.jupyter.widget-view+json": {
       "model_id": "ad4143df127b45f3860e4b68c7a41a8d",
       "version_major": 2,
       "version_minor": 0
      },
      "text/plain": [
       "  0%|          | 0/2000 [00:00<?, ?it/s]"
      ]
     },
     "metadata": {},
     "output_type": "display_data"
    },
    {
     "name": "stdout",
     "output_type": "stream",
     "text": [
      "********** PSNR Per image 30.737242162190242 **********\n",
      "Number of images recovered 2 Out of 3\n",
      "Running round 1 / 5 of ILO.\n"
     ]
    },
    {
     "data": {
      "application/vnd.jupyter.widget-view+json": {
       "model_id": "c90f1aa7af634279b8a2bfc7bc799b3a",
       "version_major": 2,
       "version_minor": 0
      },
      "text/plain": [
       "  0%|          | 0/2000 [00:00<?, ?it/s]"
      ]
     },
     "metadata": {},
     "output_type": "display_data"
    },
    {
     "name": "stdout",
     "output_type": "stream",
     "text": [
      "Running round 2 / 5 of ILO.\n"
     ]
    },
    {
     "data": {
      "application/vnd.jupyter.widget-view+json": {
       "model_id": "832feb0b0fba4d7e838d3bb2ab6c5887",
       "version_major": 2,
       "version_minor": 0
      },
      "text/plain": [
       "  0%|          | 0/1000 [00:00<?, ?it/s]"
      ]
     },
     "metadata": {},
     "output_type": "display_data"
    },
    {
     "name": "stdout",
     "output_type": "stream",
     "text": [
      "Running round 3 / 5 of ILO.\n"
     ]
    },
    {
     "data": {
      "application/vnd.jupyter.widget-view+json": {
       "model_id": "bfe0a839536c404eaf4c53506dad8cf2",
       "version_major": 2,
       "version_minor": 0
      },
      "text/plain": [
       "  0%|          | 0/1000 [00:00<?, ?it/s]"
      ]
     },
     "metadata": {},
     "output_type": "display_data"
    },
    {
     "name": "stdout",
     "output_type": "stream",
     "text": [
      "Running round 4 / 5 of ILO.\n"
     ]
    },
    {
     "data": {
      "application/vnd.jupyter.widget-view+json": {
       "model_id": "4c08fc60e5a14cc5bf34a11a4f69646e",
       "version_major": 2,
       "version_minor": 0
      },
      "text/plain": [
       "  0%|          | 0/1000 [00:00<?, ?it/s]"
      ]
     },
     "metadata": {},
     "output_type": "display_data"
    },
    {
     "name": "stdout",
     "output_type": "stream",
     "text": [
      "Running round 5 / 5 of ILO.\n"
     ]
    },
    {
     "data": {
      "application/vnd.jupyter.widget-view+json": {
       "model_id": "bb93ed2f44264bf3a5881e76e1653249",
       "version_major": 2,
       "version_minor": 0
      },
      "text/plain": [
       "  0%|          | 0/2000 [00:00<?, ?it/s]"
      ]
     },
     "metadata": {},
     "output_type": "display_data"
    },
    {
     "name": "stdout",
     "output_type": "stream",
     "text": [
      "********** PSNR Per image 29.461988011904886 **********\n",
      "Number of images recovered 3 Out of 3\n",
      "********** Percentage of Measurements End of Experiment 5 **********\n",
      "********** Percentage of Measurements 5 **********\n",
      "********** PSNR 30.509245382247382 **********\n",
      "********** Percentage of Measurements 1 **********\n",
      "Running round 1 / 5 of ILO.\n"
     ]
    },
    {
     "data": {
      "application/vnd.jupyter.widget-view+json": {
       "model_id": "9db86a468b534d6c8c0a74ed8520b0b7",
       "version_major": 2,
       "version_minor": 0
      },
      "text/plain": [
       "  0%|          | 0/2000 [00:00<?, ?it/s]"
      ]
     },
     "metadata": {},
     "output_type": "display_data"
    },
    {
     "name": "stdout",
     "output_type": "stream",
     "text": [
      "Running round 2 / 5 of ILO.\n"
     ]
    },
    {
     "data": {
      "application/vnd.jupyter.widget-view+json": {
       "model_id": "4c4c8f212e6c4127b67158e17369758b",
       "version_major": 2,
       "version_minor": 0
      },
      "text/plain": [
       "  0%|          | 0/1000 [00:00<?, ?it/s]"
      ]
     },
     "metadata": {},
     "output_type": "display_data"
    },
    {
     "name": "stdout",
     "output_type": "stream",
     "text": [
      "Running round 3 / 5 of ILO.\n"
     ]
    },
    {
     "data": {
      "application/vnd.jupyter.widget-view+json": {
       "model_id": "d4fc10f94ffc494a876920056e3399db",
       "version_major": 2,
       "version_minor": 0
      },
      "text/plain": [
       "  0%|          | 0/1000 [00:00<?, ?it/s]"
      ]
     },
     "metadata": {},
     "output_type": "display_data"
    },
    {
     "name": "stdout",
     "output_type": "stream",
     "text": [
      "Running round 4 / 5 of ILO.\n"
     ]
    },
    {
     "data": {
      "application/vnd.jupyter.widget-view+json": {
       "model_id": "a54ad53f22204d4196010bfcebaa0d4a",
       "version_major": 2,
       "version_minor": 0
      },
      "text/plain": [
       "  0%|          | 0/1000 [00:00<?, ?it/s]"
      ]
     },
     "metadata": {},
     "output_type": "display_data"
    },
    {
     "name": "stdout",
     "output_type": "stream",
     "text": [
      "Running round 5 / 5 of ILO.\n"
     ]
    },
    {
     "data": {
      "application/vnd.jupyter.widget-view+json": {
       "model_id": "4812aa8cec5846daaf32eeccc4a7be63",
       "version_major": 2,
       "version_minor": 0
      },
      "text/plain": [
       "  0%|          | 0/2000 [00:00<?, ?it/s]"
      ]
     },
     "metadata": {},
     "output_type": "display_data"
    },
    {
     "name": "stdout",
     "output_type": "stream",
     "text": [
      "********** PSNR Per image 24.950905907839566 **********\n",
      "Number of images recovered 1 Out of 3\n",
      "Running round 1 / 5 of ILO.\n"
     ]
    },
    {
     "data": {
      "application/vnd.jupyter.widget-view+json": {
       "model_id": "f5e91720db26408c9c84ca007305aeaf",
       "version_major": 2,
       "version_minor": 0
      },
      "text/plain": [
       "  0%|          | 0/2000 [00:00<?, ?it/s]"
      ]
     },
     "metadata": {},
     "output_type": "display_data"
    },
    {
     "name": "stdout",
     "output_type": "stream",
     "text": [
      "Running round 2 / 5 of ILO.\n"
     ]
    },
    {
     "data": {
      "application/vnd.jupyter.widget-view+json": {
       "model_id": "21222f3d5a2f4139b1b43f53fa5be4a9",
       "version_major": 2,
       "version_minor": 0
      },
      "text/plain": [
       "  0%|          | 0/1000 [00:00<?, ?it/s]"
      ]
     },
     "metadata": {},
     "output_type": "display_data"
    },
    {
     "name": "stdout",
     "output_type": "stream",
     "text": [
      "Running round 3 / 5 of ILO.\n"
     ]
    },
    {
     "data": {
      "application/vnd.jupyter.widget-view+json": {
       "model_id": "2b85cf5a1b9c409c97b848062dd16509",
       "version_major": 2,
       "version_minor": 0
      },
      "text/plain": [
       "  0%|          | 0/1000 [00:00<?, ?it/s]"
      ]
     },
     "metadata": {},
     "output_type": "display_data"
    },
    {
     "name": "stdout",
     "output_type": "stream",
     "text": [
      "Running round 4 / 5 of ILO.\n"
     ]
    },
    {
     "data": {
      "application/vnd.jupyter.widget-view+json": {
       "model_id": "06d794a967624121beaee484e9a3cb8b",
       "version_major": 2,
       "version_minor": 0
      },
      "text/plain": [
       "  0%|          | 0/1000 [00:00<?, ?it/s]"
      ]
     },
     "metadata": {},
     "output_type": "display_data"
    },
    {
     "name": "stdout",
     "output_type": "stream",
     "text": [
      "Running round 5 / 5 of ILO.\n"
     ]
    },
    {
     "data": {
      "application/vnd.jupyter.widget-view+json": {
       "model_id": "db38a47fe67c42ca977e8151208144f5",
       "version_major": 2,
       "version_minor": 0
      },
      "text/plain": [
       "  0%|          | 0/2000 [00:00<?, ?it/s]"
      ]
     },
     "metadata": {},
     "output_type": "display_data"
    },
    {
     "name": "stdout",
     "output_type": "stream",
     "text": [
      "********** PSNR Per image 24.481149185726725 **********\n",
      "Number of images recovered 2 Out of 3\n",
      "Running round 1 / 5 of ILO.\n"
     ]
    },
    {
     "data": {
      "application/vnd.jupyter.widget-view+json": {
       "model_id": "62aeec32c67d4df8b50e26bc1073fa72",
       "version_major": 2,
       "version_minor": 0
      },
      "text/plain": [
       "  0%|          | 0/2000 [00:00<?, ?it/s]"
      ]
     },
     "metadata": {},
     "output_type": "display_data"
    },
    {
     "name": "stdout",
     "output_type": "stream",
     "text": [
      "Running round 2 / 5 of ILO.\n"
     ]
    },
    {
     "data": {
      "application/vnd.jupyter.widget-view+json": {
       "model_id": "27ec146aaa734fb594f009ba73e5c21b",
       "version_major": 2,
       "version_minor": 0
      },
      "text/plain": [
       "  0%|          | 0/1000 [00:00<?, ?it/s]"
      ]
     },
     "metadata": {},
     "output_type": "display_data"
    },
    {
     "name": "stdout",
     "output_type": "stream",
     "text": [
      "Running round 3 / 5 of ILO.\n"
     ]
    },
    {
     "data": {
      "application/vnd.jupyter.widget-view+json": {
       "model_id": "633abb0653b9488482ec38ab1a875989",
       "version_major": 2,
       "version_minor": 0
      },
      "text/plain": [
       "  0%|          | 0/1000 [00:00<?, ?it/s]"
      ]
     },
     "metadata": {},
     "output_type": "display_data"
    },
    {
     "name": "stdout",
     "output_type": "stream",
     "text": [
      "Running round 4 / 5 of ILO.\n"
     ]
    },
    {
     "data": {
      "application/vnd.jupyter.widget-view+json": {
       "model_id": "2505f515c4da4f77af74faf64a787938",
       "version_major": 2,
       "version_minor": 0
      },
      "text/plain": [
       "  0%|          | 0/1000 [00:00<?, ?it/s]"
      ]
     },
     "metadata": {},
     "output_type": "display_data"
    },
    {
     "name": "stdout",
     "output_type": "stream",
     "text": [
      "Running round 5 / 5 of ILO.\n"
     ]
    },
    {
     "data": {
      "application/vnd.jupyter.widget-view+json": {
       "model_id": "e1bee9c479fd4683b5e665e50082547c",
       "version_major": 2,
       "version_minor": 0
      },
      "text/plain": [
       "  0%|          | 0/2000 [00:00<?, ?it/s]"
      ]
     },
     "metadata": {},
     "output_type": "display_data"
    },
    {
     "name": "stdout",
     "output_type": "stream",
     "text": [
      "********** PSNR Per image 23.73104259803259 **********\n",
      "Number of images recovered 3 Out of 3\n",
      "********** Percentage of Measurements End of Experiment 1 **********\n",
      "********** Percentage of Measurements 1 **********\n",
      "********** PSNR 24.38769923053296 **********\n"
     ]
    }
   ],
   "source": [
    "with open('config.yaml') as f:\n",
    "    configs = yaml.safe_load(f)\n",
    "Rtil_configs=configs.get('Rtil')\n",
    "trans = transforms.Compose([transforms.Resize((Rtil_configs['image_size'])),transforms.ToTensor()])\n",
    "test_dataset    = datasets.ImageFolder(Rtil_configs['test_set'], transform=trans)\n",
    "test_dataloader = torch.utils.data.DataLoader(test_dataset,batch_size=Rtil_configs['batch_size'],drop_last=False,shuffle=False)\n",
    "for measurements in Rtil_configs['perc_m']:\n",
    "    original=[]\n",
    "    recovered=[]\n",
    "    print('*'*10,'Percentage of Measurements',measurements,'*'*10)\n",
    "    for i, data in enumerate(test_dataloader):\n",
    "        latent_opt=LatentOptimizer(Rtil_configs,measurements)\n",
    "        img=data[0].to(Rtil_configs['device'])\n",
    "        org_img,latent,img_gen=latent_opt.invert(img)\n",
    "        original.append(org_img)\n",
    "        recovered.append(np.clip(img_gen,0,1))\n",
    "        psnr_img=compare_psnr(original[i], recovered[i])\n",
    "        print('*'*10,'PSNR Per image',psnr_img,'*'*10)\n",
    "        print('Number of images recovered',i+1, 'Out of',len(test_dataloader))\n",
    "        torch.cuda.empty_cache()\n",
    "    Original  = np.vstack(original)\n",
    "    Recovered = np.vstack(recovered)\n",
    "    print('*'*10,'Percentage of Measurements End of Experiment',measurements,'*'*10)\n",
    "    psnr      = [compare_psnr(x, y) for x,y in zip(Original, Recovered)]\n",
    "    print('*'*10,'Percentage of Measurements',measurements,'*'*10)\n",
    "    print('*'*10,'PSNR',np.mean(psnr),'*'*10)\n",
    "    original.clear()\n",
    "    recovered.clear()\n",
    "    path=Rtil_configs['save_folder']\n",
    "    if not os.path.exists(path):\n",
    "        os.makedirs(path)\n",
    "             \n",
    "    np.save(path+\"/original.npy\", Original)\n",
    "    np.save(path+\"/recovered_\"+ str(measurements)+ \"%\" + \".npy\", Recovered)\n",
    "    np.save(path+\"/psnr_\" + str(measurements)+ \"%\" + \".npy\",np.mean(psnr))\n",
    "\n"
   ]
  },
  {
   "cell_type": "markdown",
   "id": "ba968e57",
   "metadata": {},
   "source": [
    "## ILO"
   ]
  },
  {
   "cell_type": "code",
   "execution_count": 4,
   "id": "22e1ea20",
   "metadata": {},
   "outputs": [
    {
     "name": "stdout",
     "output_type": "stream",
     "text": [
      "********** Percentage of Measurements 10 **********\n",
      "Running round 1 / 5 of ILO.\n"
     ]
    },
    {
     "data": {
      "application/vnd.jupyter.widget-view+json": {
       "model_id": "6d5ccd6f83db432191f883a98cc5ffde",
       "version_major": 2,
       "version_minor": 0
      },
      "text/plain": [
       "  0%|          | 0/2000 [00:00<?, ?it/s]"
      ]
     },
     "metadata": {},
     "output_type": "display_data"
    },
    {
     "name": "stdout",
     "output_type": "stream",
     "text": [
      "Running round 2 / 5 of ILO.\n"
     ]
    },
    {
     "data": {
      "application/vnd.jupyter.widget-view+json": {
       "model_id": "11e27401e00645098b6a1790ed6b15a6",
       "version_major": 2,
       "version_minor": 0
      },
      "text/plain": [
       "  0%|          | 0/1000 [00:00<?, ?it/s]"
      ]
     },
     "metadata": {},
     "output_type": "display_data"
    },
    {
     "name": "stdout",
     "output_type": "stream",
     "text": [
      "Running round 3 / 5 of ILO.\n"
     ]
    },
    {
     "data": {
      "application/vnd.jupyter.widget-view+json": {
       "model_id": "00ad9df9a5944e08940ef3c3352bdf6c",
       "version_major": 2,
       "version_minor": 0
      },
      "text/plain": [
       "  0%|          | 0/1000 [00:00<?, ?it/s]"
      ]
     },
     "metadata": {},
     "output_type": "display_data"
    },
    {
     "name": "stdout",
     "output_type": "stream",
     "text": [
      "Running round 4 / 5 of ILO.\n"
     ]
    },
    {
     "data": {
      "application/vnd.jupyter.widget-view+json": {
       "model_id": "1256e5c54f4d438b8b42a0e70d198244",
       "version_major": 2,
       "version_minor": 0
      },
      "text/plain": [
       "  0%|          | 0/1000 [00:00<?, ?it/s]"
      ]
     },
     "metadata": {},
     "output_type": "display_data"
    },
    {
     "name": "stdout",
     "output_type": "stream",
     "text": [
      "Running round 5 / 5 of ILO.\n"
     ]
    },
    {
     "data": {
      "application/vnd.jupyter.widget-view+json": {
       "model_id": "0ed513753a654010977a10cbc52aff0e",
       "version_major": 2,
       "version_minor": 0
      },
      "text/plain": [
       "  0%|          | 0/2000 [00:00<?, ?it/s]"
      ]
     },
     "metadata": {},
     "output_type": "display_data"
    },
    {
     "name": "stdout",
     "output_type": "stream",
     "text": [
      "********** PSNR Per image 32.34312424939739 **********\n",
      "Number of images recovered 1 Out of 3\n",
      "Running round 1 / 5 of ILO.\n"
     ]
    },
    {
     "data": {
      "application/vnd.jupyter.widget-view+json": {
       "model_id": "dcf5e309e7b2443bb6d4a20eb4739225",
       "version_major": 2,
       "version_minor": 0
      },
      "text/plain": [
       "  0%|          | 0/2000 [00:00<?, ?it/s]"
      ]
     },
     "metadata": {},
     "output_type": "display_data"
    },
    {
     "name": "stdout",
     "output_type": "stream",
     "text": [
      "Running round 2 / 5 of ILO.\n"
     ]
    },
    {
     "data": {
      "application/vnd.jupyter.widget-view+json": {
       "model_id": "8beb4f977c074e76b68cce1043336389",
       "version_major": 2,
       "version_minor": 0
      },
      "text/plain": [
       "  0%|          | 0/1000 [00:00<?, ?it/s]"
      ]
     },
     "metadata": {},
     "output_type": "display_data"
    },
    {
     "name": "stdout",
     "output_type": "stream",
     "text": [
      "Running round 3 / 5 of ILO.\n"
     ]
    },
    {
     "data": {
      "application/vnd.jupyter.widget-view+json": {
       "model_id": "19fb89e8f2e7424bbe0c301c2e9d1ccd",
       "version_major": 2,
       "version_minor": 0
      },
      "text/plain": [
       "  0%|          | 0/1000 [00:00<?, ?it/s]"
      ]
     },
     "metadata": {},
     "output_type": "display_data"
    },
    {
     "name": "stdout",
     "output_type": "stream",
     "text": [
      "Running round 4 / 5 of ILO.\n"
     ]
    },
    {
     "data": {
      "application/vnd.jupyter.widget-view+json": {
       "model_id": "bbec3b9f857040df825f2fd3bb645c1e",
       "version_major": 2,
       "version_minor": 0
      },
      "text/plain": [
       "  0%|          | 0/1000 [00:00<?, ?it/s]"
      ]
     },
     "metadata": {},
     "output_type": "display_data"
    },
    {
     "name": "stdout",
     "output_type": "stream",
     "text": [
      "Running round 5 / 5 of ILO.\n"
     ]
    },
    {
     "data": {
      "application/vnd.jupyter.widget-view+json": {
       "model_id": "91e477bcf8b74eafbc4c565e06ad506b",
       "version_major": 2,
       "version_minor": 0
      },
      "text/plain": [
       "  0%|          | 0/2000 [00:00<?, ?it/s]"
      ]
     },
     "metadata": {},
     "output_type": "display_data"
    },
    {
     "name": "stdout",
     "output_type": "stream",
     "text": [
      "********** PSNR Per image 31.17650842820303 **********\n",
      "Number of images recovered 2 Out of 3\n",
      "Running round 1 / 5 of ILO.\n"
     ]
    },
    {
     "data": {
      "application/vnd.jupyter.widget-view+json": {
       "model_id": "ff0fa1a2c1b74d58a43fc063e29ccc0b",
       "version_major": 2,
       "version_minor": 0
      },
      "text/plain": [
       "  0%|          | 0/2000 [00:00<?, ?it/s]"
      ]
     },
     "metadata": {},
     "output_type": "display_data"
    },
    {
     "name": "stdout",
     "output_type": "stream",
     "text": [
      "Running round 2 / 5 of ILO.\n"
     ]
    },
    {
     "data": {
      "application/vnd.jupyter.widget-view+json": {
       "model_id": "127466c6882e4b1f9e536e09ef80ce2e",
       "version_major": 2,
       "version_minor": 0
      },
      "text/plain": [
       "  0%|          | 0/1000 [00:00<?, ?it/s]"
      ]
     },
     "metadata": {},
     "output_type": "display_data"
    },
    {
     "name": "stdout",
     "output_type": "stream",
     "text": [
      "Running round 3 / 5 of ILO.\n"
     ]
    },
    {
     "data": {
      "application/vnd.jupyter.widget-view+json": {
       "model_id": "0cd508d682c14caa94c45bbd7552ae15",
       "version_major": 2,
       "version_minor": 0
      },
      "text/plain": [
       "  0%|          | 0/1000 [00:00<?, ?it/s]"
      ]
     },
     "metadata": {},
     "output_type": "display_data"
    },
    {
     "name": "stdout",
     "output_type": "stream",
     "text": [
      "Running round 4 / 5 of ILO.\n"
     ]
    },
    {
     "data": {
      "application/vnd.jupyter.widget-view+json": {
       "model_id": "f06b99f272ec458aa8655eab9a693a16",
       "version_major": 2,
       "version_minor": 0
      },
      "text/plain": [
       "  0%|          | 0/1000 [00:00<?, ?it/s]"
      ]
     },
     "metadata": {},
     "output_type": "display_data"
    },
    {
     "name": "stdout",
     "output_type": "stream",
     "text": [
      "Running round 5 / 5 of ILO.\n"
     ]
    },
    {
     "data": {
      "application/vnd.jupyter.widget-view+json": {
       "model_id": "c8cbf1aacaab4f578e6968fc27e929de",
       "version_major": 2,
       "version_minor": 0
      },
      "text/plain": [
       "  0%|          | 0/2000 [00:00<?, ?it/s]"
      ]
     },
     "metadata": {},
     "output_type": "display_data"
    },
    {
     "name": "stdout",
     "output_type": "stream",
     "text": [
      "********** PSNR Per image 31.629365460894306 **********\n",
      "Number of images recovered 3 Out of 3\n",
      "********** Percentage of Measurements End of Experiment 10 **********\n",
      "********** Percentage of Measurements 10 **********\n",
      "********** PSNR 31.716332712831576 **********\n",
      "********** Percentage of Measurements 5 **********\n",
      "Running round 1 / 5 of ILO.\n"
     ]
    },
    {
     "data": {
      "application/vnd.jupyter.widget-view+json": {
       "model_id": "a0735550fe394d6b9f7a433d05ec7fae",
       "version_major": 2,
       "version_minor": 0
      },
      "text/plain": [
       "  0%|          | 0/2000 [00:00<?, ?it/s]"
      ]
     },
     "metadata": {},
     "output_type": "display_data"
    },
    {
     "name": "stdout",
     "output_type": "stream",
     "text": [
      "Running round 2 / 5 of ILO.\n"
     ]
    },
    {
     "data": {
      "application/vnd.jupyter.widget-view+json": {
       "model_id": "6ac62256f3c9449485dbde9ed4959b00",
       "version_major": 2,
       "version_minor": 0
      },
      "text/plain": [
       "  0%|          | 0/1000 [00:00<?, ?it/s]"
      ]
     },
     "metadata": {},
     "output_type": "display_data"
    },
    {
     "name": "stdout",
     "output_type": "stream",
     "text": [
      "Running round 3 / 5 of ILO.\n"
     ]
    },
    {
     "data": {
      "application/vnd.jupyter.widget-view+json": {
       "model_id": "18536b1cc5e54531818179aa8e4836c9",
       "version_major": 2,
       "version_minor": 0
      },
      "text/plain": [
       "  0%|          | 0/1000 [00:00<?, ?it/s]"
      ]
     },
     "metadata": {},
     "output_type": "display_data"
    },
    {
     "name": "stdout",
     "output_type": "stream",
     "text": [
      "Running round 4 / 5 of ILO.\n"
     ]
    },
    {
     "data": {
      "application/vnd.jupyter.widget-view+json": {
       "model_id": "f323f908c8af4b9e937e7753db28a42e",
       "version_major": 2,
       "version_minor": 0
      },
      "text/plain": [
       "  0%|          | 0/1000 [00:00<?, ?it/s]"
      ]
     },
     "metadata": {},
     "output_type": "display_data"
    },
    {
     "name": "stdout",
     "output_type": "stream",
     "text": [
      "Running round 5 / 5 of ILO.\n"
     ]
    },
    {
     "data": {
      "application/vnd.jupyter.widget-view+json": {
       "model_id": "c34d288a4e0342d89c62a1d0173d1fd5",
       "version_major": 2,
       "version_minor": 0
      },
      "text/plain": [
       "  0%|          | 0/2000 [00:00<?, ?it/s]"
      ]
     },
     "metadata": {},
     "output_type": "display_data"
    },
    {
     "name": "stdout",
     "output_type": "stream",
     "text": [
      "********** PSNR Per image 29.8788813226154 **********\n",
      "Number of images recovered 1 Out of 3\n",
      "Running round 1 / 5 of ILO.\n"
     ]
    },
    {
     "data": {
      "application/vnd.jupyter.widget-view+json": {
       "model_id": "6eb8c120f6964c7a97cfd4799b1d31fb",
       "version_major": 2,
       "version_minor": 0
      },
      "text/plain": [
       "  0%|          | 0/2000 [00:00<?, ?it/s]"
      ]
     },
     "metadata": {},
     "output_type": "display_data"
    },
    {
     "name": "stdout",
     "output_type": "stream",
     "text": [
      "Running round 2 / 5 of ILO.\n"
     ]
    },
    {
     "data": {
      "application/vnd.jupyter.widget-view+json": {
       "model_id": "35e6fc15a0b84cb291823f54f40bf44d",
       "version_major": 2,
       "version_minor": 0
      },
      "text/plain": [
       "  0%|          | 0/1000 [00:00<?, ?it/s]"
      ]
     },
     "metadata": {},
     "output_type": "display_data"
    },
    {
     "name": "stdout",
     "output_type": "stream",
     "text": [
      "Running round 3 / 5 of ILO.\n"
     ]
    },
    {
     "data": {
      "application/vnd.jupyter.widget-view+json": {
       "model_id": "dba8c61ee99b4c2996ac4e0247cee343",
       "version_major": 2,
       "version_minor": 0
      },
      "text/plain": [
       "  0%|          | 0/1000 [00:00<?, ?it/s]"
      ]
     },
     "metadata": {},
     "output_type": "display_data"
    },
    {
     "name": "stdout",
     "output_type": "stream",
     "text": [
      "Running round 4 / 5 of ILO.\n"
     ]
    },
    {
     "data": {
      "application/vnd.jupyter.widget-view+json": {
       "model_id": "95ee04509a884859b1860267a131a0c5",
       "version_major": 2,
       "version_minor": 0
      },
      "text/plain": [
       "  0%|          | 0/1000 [00:00<?, ?it/s]"
      ]
     },
     "metadata": {},
     "output_type": "display_data"
    },
    {
     "name": "stdout",
     "output_type": "stream",
     "text": [
      "Running round 5 / 5 of ILO.\n"
     ]
    },
    {
     "data": {
      "application/vnd.jupyter.widget-view+json": {
       "model_id": "eecee27571ce4ebaad38bfe38998ce53",
       "version_major": 2,
       "version_minor": 0
      },
      "text/plain": [
       "  0%|          | 0/2000 [00:00<?, ?it/s]"
      ]
     },
     "metadata": {},
     "output_type": "display_data"
    },
    {
     "name": "stdout",
     "output_type": "stream",
     "text": [
      "********** PSNR Per image 27.573551514429695 **********\n",
      "Number of images recovered 2 Out of 3\n",
      "Running round 1 / 5 of ILO.\n"
     ]
    },
    {
     "data": {
      "application/vnd.jupyter.widget-view+json": {
       "model_id": "e9a8d7dc6c5e44009f98c7d45dfe0e4b",
       "version_major": 2,
       "version_minor": 0
      },
      "text/plain": [
       "  0%|          | 0/2000 [00:00<?, ?it/s]"
      ]
     },
     "metadata": {},
     "output_type": "display_data"
    },
    {
     "name": "stdout",
     "output_type": "stream",
     "text": [
      "Running round 2 / 5 of ILO.\n"
     ]
    },
    {
     "data": {
      "application/vnd.jupyter.widget-view+json": {
       "model_id": "d14f0f3469f14125a6773b53660ef3cc",
       "version_major": 2,
       "version_minor": 0
      },
      "text/plain": [
       "  0%|          | 0/1000 [00:00<?, ?it/s]"
      ]
     },
     "metadata": {},
     "output_type": "display_data"
    },
    {
     "name": "stdout",
     "output_type": "stream",
     "text": [
      "Running round 3 / 5 of ILO.\n"
     ]
    },
    {
     "data": {
      "application/vnd.jupyter.widget-view+json": {
       "model_id": "b0c0e9840f874a6b950dbf3d124e50d5",
       "version_major": 2,
       "version_minor": 0
      },
      "text/plain": [
       "  0%|          | 0/1000 [00:00<?, ?it/s]"
      ]
     },
     "metadata": {},
     "output_type": "display_data"
    },
    {
     "name": "stdout",
     "output_type": "stream",
     "text": [
      "Running round 4 / 5 of ILO.\n"
     ]
    },
    {
     "data": {
      "application/vnd.jupyter.widget-view+json": {
       "model_id": "588900990def42a29b254949f8081bcf",
       "version_major": 2,
       "version_minor": 0
      },
      "text/plain": [
       "  0%|          | 0/1000 [00:00<?, ?it/s]"
      ]
     },
     "metadata": {},
     "output_type": "display_data"
    },
    {
     "name": "stdout",
     "output_type": "stream",
     "text": [
      "Running round 5 / 5 of ILO.\n"
     ]
    },
    {
     "data": {
      "application/vnd.jupyter.widget-view+json": {
       "model_id": "67cfff1a015c458ab4dc1a5475e84b24",
       "version_major": 2,
       "version_minor": 0
      },
      "text/plain": [
       "  0%|          | 0/2000 [00:00<?, ?it/s]"
      ]
     },
     "metadata": {},
     "output_type": "display_data"
    },
    {
     "name": "stdout",
     "output_type": "stream",
     "text": [
      "********** PSNR Per image 29.01827065630753 **********\n",
      "Number of images recovered 3 Out of 3\n",
      "********** Percentage of Measurements End of Experiment 5 **********\n",
      "********** Percentage of Measurements 5 **********\n",
      "********** PSNR 28.823567831117543 **********\n",
      "********** Percentage of Measurements 1 **********\n",
      "Running round 1 / 5 of ILO.\n"
     ]
    },
    {
     "data": {
      "application/vnd.jupyter.widget-view+json": {
       "model_id": "383f50bfefaf418a964f2c7469384d8a",
       "version_major": 2,
       "version_minor": 0
      },
      "text/plain": [
       "  0%|          | 0/2000 [00:00<?, ?it/s]"
      ]
     },
     "metadata": {},
     "output_type": "display_data"
    },
    {
     "name": "stdout",
     "output_type": "stream",
     "text": [
      "Running round 2 / 5 of ILO.\n"
     ]
    },
    {
     "data": {
      "application/vnd.jupyter.widget-view+json": {
       "model_id": "375e8a5ee5fe44129d92edf0cbbb396d",
       "version_major": 2,
       "version_minor": 0
      },
      "text/plain": [
       "  0%|          | 0/1000 [00:00<?, ?it/s]"
      ]
     },
     "metadata": {},
     "output_type": "display_data"
    },
    {
     "name": "stdout",
     "output_type": "stream",
     "text": [
      "Running round 3 / 5 of ILO.\n"
     ]
    },
    {
     "data": {
      "application/vnd.jupyter.widget-view+json": {
       "model_id": "f5ef21c01d86406ba0678b9dfa57cff0",
       "version_major": 2,
       "version_minor": 0
      },
      "text/plain": [
       "  0%|          | 0/1000 [00:00<?, ?it/s]"
      ]
     },
     "metadata": {},
     "output_type": "display_data"
    },
    {
     "name": "stdout",
     "output_type": "stream",
     "text": [
      "Running round 4 / 5 of ILO.\n"
     ]
    },
    {
     "data": {
      "application/vnd.jupyter.widget-view+json": {
       "model_id": "7c81aaf64508479b8be647bfac7fdb85",
       "version_major": 2,
       "version_minor": 0
      },
      "text/plain": [
       "  0%|          | 0/1000 [00:00<?, ?it/s]"
      ]
     },
     "metadata": {},
     "output_type": "display_data"
    },
    {
     "name": "stdout",
     "output_type": "stream",
     "text": [
      "Running round 5 / 5 of ILO.\n"
     ]
    },
    {
     "data": {
      "application/vnd.jupyter.widget-view+json": {
       "model_id": "cd0edb4fc4f240c5b1c4d6f35d4c85fe",
       "version_major": 2,
       "version_minor": 0
      },
      "text/plain": [
       "  0%|          | 0/2000 [00:00<?, ?it/s]"
      ]
     },
     "metadata": {},
     "output_type": "display_data"
    },
    {
     "name": "stdout",
     "output_type": "stream",
     "text": [
      "********** PSNR Per image 23.520853603353487 **********\n",
      "Number of images recovered 1 Out of 3\n",
      "Running round 1 / 5 of ILO.\n"
     ]
    },
    {
     "data": {
      "application/vnd.jupyter.widget-view+json": {
       "model_id": "66f4e25489a14662b507de1d59ef1508",
       "version_major": 2,
       "version_minor": 0
      },
      "text/plain": [
       "  0%|          | 0/2000 [00:00<?, ?it/s]"
      ]
     },
     "metadata": {},
     "output_type": "display_data"
    },
    {
     "name": "stdout",
     "output_type": "stream",
     "text": [
      "Running round 2 / 5 of ILO.\n"
     ]
    },
    {
     "data": {
      "application/vnd.jupyter.widget-view+json": {
       "model_id": "9b22505359a54cd4ab1420bded70461b",
       "version_major": 2,
       "version_minor": 0
      },
      "text/plain": [
       "  0%|          | 0/1000 [00:00<?, ?it/s]"
      ]
     },
     "metadata": {},
     "output_type": "display_data"
    },
    {
     "name": "stdout",
     "output_type": "stream",
     "text": [
      "Running round 3 / 5 of ILO.\n"
     ]
    },
    {
     "data": {
      "application/vnd.jupyter.widget-view+json": {
       "model_id": "2073d0dbf9ce489b9c1bba6b5eca1634",
       "version_major": 2,
       "version_minor": 0
      },
      "text/plain": [
       "  0%|          | 0/1000 [00:00<?, ?it/s]"
      ]
     },
     "metadata": {},
     "output_type": "display_data"
    },
    {
     "name": "stdout",
     "output_type": "stream",
     "text": [
      "Running round 4 / 5 of ILO.\n"
     ]
    },
    {
     "data": {
      "application/vnd.jupyter.widget-view+json": {
       "model_id": "55baa631e09345b8b1fb292e63e070fc",
       "version_major": 2,
       "version_minor": 0
      },
      "text/plain": [
       "  0%|          | 0/1000 [00:00<?, ?it/s]"
      ]
     },
     "metadata": {},
     "output_type": "display_data"
    },
    {
     "name": "stdout",
     "output_type": "stream",
     "text": [
      "Running round 5 / 5 of ILO.\n"
     ]
    },
    {
     "data": {
      "application/vnd.jupyter.widget-view+json": {
       "model_id": "a35e12b1ac7c43648dc8442644b09412",
       "version_major": 2,
       "version_minor": 0
      },
      "text/plain": [
       "  0%|          | 0/2000 [00:00<?, ?it/s]"
      ]
     },
     "metadata": {},
     "output_type": "display_data"
    },
    {
     "name": "stdout",
     "output_type": "stream",
     "text": [
      "********** PSNR Per image 20.49617974214896 **********\n",
      "Number of images recovered 2 Out of 3\n",
      "Running round 1 / 5 of ILO.\n"
     ]
    },
    {
     "data": {
      "application/vnd.jupyter.widget-view+json": {
       "model_id": "f80cd18b7899455d9372a8e020537272",
       "version_major": 2,
       "version_minor": 0
      },
      "text/plain": [
       "  0%|          | 0/2000 [00:00<?, ?it/s]"
      ]
     },
     "metadata": {},
     "output_type": "display_data"
    },
    {
     "name": "stdout",
     "output_type": "stream",
     "text": [
      "Running round 2 / 5 of ILO.\n"
     ]
    },
    {
     "data": {
      "application/vnd.jupyter.widget-view+json": {
       "model_id": "2f2605aa3e584055a8c1484c12495e82",
       "version_major": 2,
       "version_minor": 0
      },
      "text/plain": [
       "  0%|          | 0/1000 [00:00<?, ?it/s]"
      ]
     },
     "metadata": {},
     "output_type": "display_data"
    },
    {
     "name": "stdout",
     "output_type": "stream",
     "text": [
      "Running round 3 / 5 of ILO.\n"
     ]
    },
    {
     "data": {
      "application/vnd.jupyter.widget-view+json": {
       "model_id": "bae6d221f92a4faaa5b78a97b76b079c",
       "version_major": 2,
       "version_minor": 0
      },
      "text/plain": [
       "  0%|          | 0/1000 [00:00<?, ?it/s]"
      ]
     },
     "metadata": {},
     "output_type": "display_data"
    },
    {
     "name": "stdout",
     "output_type": "stream",
     "text": [
      "Running round 4 / 5 of ILO.\n"
     ]
    },
    {
     "data": {
      "application/vnd.jupyter.widget-view+json": {
       "model_id": "cc35d09be44644dabad5f57fb341eb59",
       "version_major": 2,
       "version_minor": 0
      },
      "text/plain": [
       "  0%|          | 0/1000 [00:00<?, ?it/s]"
      ]
     },
     "metadata": {},
     "output_type": "display_data"
    },
    {
     "name": "stdout",
     "output_type": "stream",
     "text": [
      "Running round 5 / 5 of ILO.\n"
     ]
    },
    {
     "data": {
      "application/vnd.jupyter.widget-view+json": {
       "model_id": "f0142cfa633e4d3b8d9710075fe00b0c",
       "version_major": 2,
       "version_minor": 0
      },
      "text/plain": [
       "  0%|          | 0/2000 [00:00<?, ?it/s]"
      ]
     },
     "metadata": {},
     "output_type": "display_data"
    },
    {
     "name": "stdout",
     "output_type": "stream",
     "text": [
      "********** PSNR Per image 22.31829300290245 **********\n",
      "Number of images recovered 3 Out of 3\n",
      "********** Percentage of Measurements End of Experiment 1 **********\n",
      "********** Percentage of Measurements 1 **********\n",
      "********** PSNR 22.111775449468297 **********\n"
     ]
    }
   ],
   "source": [
    "with open('config.yaml') as f:\n",
    "    configs = yaml.safe_load(f)\n",
    "van_configs=configs.get('Vanilla')\n",
    "trans = transforms.Compose([transforms.Resize((van_configs['image_size'])),transforms.ToTensor()])\n",
    "test_dataset    = datasets.ImageFolder(van_configs['test_set'], transform=trans)\n",
    "test_dataloader = torch.utils.data.DataLoader(test_dataset,batch_size=van_configs['batch_size'],drop_last=False,shuffle=False)\n",
    "for measurements in van_configs['perc_m']:\n",
    "    original=[]\n",
    "    recovered=[]\n",
    "    print('*'*10,'Percentage of Measurements',measurements,'*'*10)\n",
    "    for i, data in enumerate(test_dataloader):\n",
    "        latent_opt=LatentOptimizer(van_configs,measurements)\n",
    "        img=data[0].to(van_configs['device'])\n",
    "        org_img,latent,img_gen=latent_opt.invert(img)\n",
    "        original.append(org_img)\n",
    "        recovered.append(np.clip(img_gen,0,1))\n",
    "        psnr_img=compare_psnr(original[i], recovered[i])\n",
    "        print('*'*10,'PSNR Per image',psnr_img,'*'*10)\n",
    "        print('Number of images recovered',i+1, 'Out of',len(test_dataloader))\n",
    "        torch.cuda.empty_cache()\n",
    "    Original  = np.vstack(original)\n",
    "    Recovered = np.vstack(recovered)\n",
    "    print('*'*10,'Percentage of Measurements End of Experiment',measurements,'*'*10)\n",
    "    psnr      = [compare_psnr(x, y) for x,y in zip(Original, Recovered)]\n",
    "    print('*'*10,'Percentage of Measurements',measurements,'*'*10)\n",
    "    print('*'*10,'PSNR',np.mean(psnr),'*'*10)\n",
    "    original.clear()\n",
    "    recovered.clear()\n",
    "    path=van_configs['save_folder']\n",
    "    if not os.path.exists(path):\n",
    "        os.makedirs(path)\n",
    "             \n",
    "    np.save(path+\"/original.npy\", Original)\n",
    "    np.save(path+\"/recovered_\"+ str(measurements)+ \"%\" + \".npy\", Recovered)\n",
    "    np.save(path+\"/psnr_\" + str(measurements)+ \"%\" + \".npy\",np.mean(psnr))\n",
    "\n"
   ]
  },
  {
   "cell_type": "markdown",
   "id": "08d86bbb",
   "metadata": {},
   "source": [
    "## Make Results"
   ]
  },
  {
   "cell_type": "code",
   "execution_count": 5,
   "id": "914c54f6",
   "metadata": {},
   "outputs": [],
   "source": [
    "\n",
    "def get_psnr_results(direct):\n",
    "    results={}\n",
    "    myfiles = [myfile for myfile in os.listdir(direct) if myfile.startswith(\"psnr\")]\n",
    "    for files in myfiles:\n",
    "        psnr=np.load(direct + files)\n",
    "        no_meas=int(re.search(r'\\d+', files)[0])\n",
    "        results[no_meas]=psnr\n",
    "    return results \n",
    "\n",
    "    "
   ]
  },
  {
   "cell_type": "code",
   "execution_count": 6,
   "id": "d49dd8d5",
   "metadata": {},
   "outputs": [
    {
     "data": {
      "image/png": "[encoded data removed]",
      "text/plain": [
       "<Figure size 612x468 with 1 Axes>"
      ]
     },
     "metadata": {
      "needs_background": "light"
     },
     "output_type": "display_data"
    }
   ],
   "source": [
    "fig = plt.gcf()\n",
    "fig.set_size_inches(8.5, 6.5)\n",
    "van_results=get_psnr_results('./results/van/')\n",
    "rtil_results=get_psnr_results('./results/rtil/')\n",
    "ilo = sorted(van_results.items(),reverse=True) \n",
    "rtil= sorted(rtil_results.items(),reverse=True) \n",
    "m, psnr_ilo = zip(*ilo) \n",
    "m, psnr_rtil = zip(*rtil) \n",
    "plt.plot(m, psnr_ilo,marker='o',markersize=12,label='ILO')\n",
    "plt.plot(m, psnr_rtil,marker='s',markersize=12,label='RTIL-ILO')\n",
    "plt.xlabel('Percentage of Measurements',fontsize=20)\n",
    "plt.ylabel('PSNR',fontsize=20)\n",
    "plt.legend()\n",
    "plt.grid()\n",
    "plt.title('Compressed Sensing with Circulant Matrices',fontsize=20)\n",
    "plt.tight_layout()\n",
    "plt.show()\n"
   ]
  },
  {
   "cell_type": "code",
   "execution_count": null,
   "id": "e6ec5cb7",
   "metadata": {},
   "outputs": [],
   "source": []
  }
 ],
 "metadata": {
  "kernelspec": {
   "display_name": "Python 3 (ipykernel)",
   "language": "python",
   "name": "python3"
  },
  "language_info": {
   "codemirror_mode": {
    "name": "ipython",
    "version": 3
   },
   "file_extension": ".py",
   "mimetype": "text/x-python",
   "name": "python",
   "nbconvert_exporter": "python",
   "pygments_lexer": "ipython3",
   "version": "3.8.10"
  }
 },
 "nbformat": 4,
 "nbformat_minor": 5
}
