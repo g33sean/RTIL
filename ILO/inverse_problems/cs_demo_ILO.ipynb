{
 "cells": [
  {
   "cell_type": "code",
   "execution_count": 1,
   "id": "5f0b13a9",
   "metadata": {},
   "outputs": [],
   "source": [
    "import os \n",
    "import re\n",
    "import torchvision\n",
    "import numpy as np\n",
    "import math\n",
    "import torch\n",
    "from inv_model import Generator\n",
    "from tqdm.notebook import tqdm\n",
    "from torchvision import datasets\n",
    "import torchvision.transforms as transforms\n",
    "from utils import *\n",
    "from skimage.measure import compare_psnr\n",
    "import matplotlib.pyplot as plt\n",
    "import yaml\n",
    "import warnings\n",
    "warnings.filterwarnings(\"ignore\")"
   ]
  },
  {
   "cell_type": "markdown",
   "id": "5fc853f9",
   "metadata": {},
   "source": [
    "## Optimization Code"
   ]
  },
  {
   "cell_type": "code",
   "execution_count": 2,
   "id": "0ce632d8",
   "metadata": {},
   "outputs": [],
   "source": [
    "def loss_geocross(latent):\n",
    "        if latent.size() == (1, 512):\n",
    "            return 0\n",
    "        else:\n",
    "            num_latents  = latent.size()[1]\n",
    "            X = latent.view(-1, 1, num_latents, 512)\n",
    "            Y = latent.view(-1, num_latents, 1, 512)\n",
    "            A = ((X - Y).pow(2).sum(-1) + 1e-9).sqrt()\n",
    "            B = ((X + Y).pow(2).sum(-1) + 1e-9).sqrt()\n",
    "            D = 2 * torch.atan2(A, B)\n",
    "            D = ((D.pow(2) * 512).mean((1, 2)) / 8.).mean()\n",
    "            return D\n",
    "\n",
    "class MappingProxy(torch.nn.Module):\n",
    "    def __init__(self,gaussian_ft):\n",
    "        super(MappingProxy,self).__init__()\n",
    "        self.mean = gaussian_ft[\"mean\"]\n",
    "        self.std = gaussian_ft[\"std\"]\n",
    "        self.lrelu = torch.nn.LeakyReLU(0.2)\n",
    "    def forward(self,x):\n",
    "        x = self.lrelu(self.std * x + self.mean)\n",
    "        return x\n",
    "\n",
    "class SphericalOptimizer():\n",
    "    def __init__(self, params):\n",
    "        self.params = params\n",
    "        with torch.no_grad():\n",
    "            self.radii = {param: (param.pow(2).sum(tuple(range(2,param.ndim)), keepdim=True)+1e-9).sqrt() for param in params}\n",
    "    @torch.no_grad()\n",
    "    def step(self, closure=None):\n",
    "        for param in self.params:\n",
    "            param.data.div_((param.pow(2).sum(tuple(range(2,param.ndim)), keepdim=True)+1e-9).sqrt())\n",
    "            param.mul_(self.radii[param])\n",
    "\n",
    "\n",
    "\n",
    "class LatentOptimizer(torch.nn.Module):\n",
    "    def __init__(self,configs,perc_m):\n",
    "        super().__init__()\n",
    "        self.configs = configs\n",
    "        self.perc_m=perc_m\n",
    "\n",
    "        device = self.configs['device']\n",
    "        gen = torch.nn.DataParallel(Generator(256, 512, 8),device_ids=[0])\n",
    "        gen.load_state_dict(torch.load(self.configs['ckpt'])[\"g_ema\"], strict=True)\n",
    "        gen.eval()\n",
    "        \n",
    "        self.gen = gen.module.to(device)\n",
    "        self.gen.start_layer = 0\n",
    "        self.gen.end_layer = self.configs['end_layer']\n",
    "        if self.configs['inv_method']=='rtil':\n",
    "            self.mpl = MappingProxy(torch.load('./pretrained/gauss_rtil.pt',map_location=device))\n",
    "        else:\n",
    "            self.mpl = MappingProxy(torch.load('./pretrained/gauss_van.pt',map_location=device))\n",
    "        self.init_state()\n",
    "\n",
    "    def init_state(self):\n",
    "        device = self.configs['device']\n",
    "        self.project = self.configs['project']\n",
    "        self.steps = self.configs['steps']\n",
    "\n",
    "        self.layer_in = None\n",
    "        self.best = None\n",
    "        self.current_step = 0\n",
    "\n",
    "    \n",
    "        # save filters\n",
    "        perc = self.perc_m / 100\n",
    "        m = int(perc * (3 * self.configs['image_size'] ** 2))\n",
    "\n",
    "        self.indices = torch.tensor(np.random.choice(np.arange(256 * 256 * 3), m, replace=False))\n",
    "        self.filters = torch.ones((256 *  256 * 3), device=device).normal_().unsqueeze(0).to(device)\n",
    "        self.sign_pattern = (torch.rand(256 * 256 * 3) >\n",
    "                            0.5).type(torch.int32).to(device)\n",
    "        self.sign_pattern = 2 * self.sign_pattern - 1\n",
    "        bs = self.configs['batch_size']\n",
    "        # initialization\n",
    "        noises_single = self.gen.make_noise(bs)\n",
    "        self.noises = []\n",
    "        for noise in noises_single:\n",
    "            self.noises.append(noise.normal_())\n",
    "            self.latent_z = torch.randn(\n",
    "                        (bs, 14, 512),\n",
    "                        dtype=torch.float,\n",
    "                        requires_grad=True, device=device)\n",
    "            self.gen_outs = [None]\n",
    " \n",
    "\n",
    "\n",
    "    def get_lr(self, t, initial_lr, rampdown=0.75, rampup=0.05):\n",
    "        lr_ramp = min(1, (1 - t) / rampdown)\n",
    "        lr_ramp = 0.5 - 0.5 * math.cos(lr_ramp * math.pi)\n",
    "        lr_ramp = lr_ramp * min(1, t / rampup)\n",
    "        return initial_lr * lr_ramp\n",
    "\n",
    "\n",
    "    def invert_(self,img, start_layer, noise_list, steps, index, reference_vector=None):\n",
    "        learning_rate = self.configs['lr'] [index]\n",
    "        print(f\"Running round {index + 1} / {len(self.configs['steps'])} of ILO.\")\n",
    "        # noise_list containts the indices of nodes that we will be optimizing over\n",
    "        for i in range(len(self.noises)):\n",
    "            if i in noise_list:\n",
    "                self.noises[i].requires_grad = True\n",
    "            else:\n",
    "                self.noises[i].requires_grad = False\n",
    "        with torch.no_grad():\n",
    "            if start_layer == 0:\n",
    "                var_list = [self.latent_z] + self.noises\n",
    "            else:\n",
    "                self.gen_outs[-1].requires_grad = True\n",
    "                var_list = [self.latent_z] + self.noises + [self.gen_outs[-1]]\n",
    "                prev_gen_out = torch.ones(self.gen_outs[-1].shape, device=self.gen_outs[-1].device) * self.gen_outs[-1]\n",
    "            prev_latent = torch.ones(self.latent_z.shape, device=self.latent_z.device) * self.latent_z\n",
    "            prev_noises = [torch.ones(noise.shape, device=noise.device) * noise for noise in\n",
    "                           self.noises]\n",
    "\n",
    "            # set network that we will be optimizing over\n",
    "            self.gen.start_layer = start_layer\n",
    "            self.gen.end_layer = self.configs['end_layer']\n",
    "\n",
    "        optimizer = torch.optim.Adam(var_list, lr=learning_rate)\n",
    "        ps = SphericalOptimizer([self.latent_z] + self.noises)\n",
    "        pbar = tqdm(range(steps))\n",
    "        self.current_step += steps\n",
    "\n",
    "        mse_min = np.inf\n",
    "\n",
    "        mse_loss = 0\n",
    "        reference_loss = 0\n",
    "        for i in pbar:\n",
    "            if self.configs['lr_same_pace']:\n",
    "                total_steps = sum(self.configs['steps'])\n",
    "                t = i / total_steps\n",
    "            else:\n",
    "                t = i / steps\n",
    "            lr = self.get_lr(t, learning_rate)\n",
    "            optimizer.param_groups[0][\"lr\"] = lr\n",
    "            latent_w = self.mpl(self.latent_z)\n",
    "            img_gen, _ = self.gen([latent_w],\n",
    "                                  input_is_latent=True,\n",
    "                                  noise=self.noises,\n",
    "                                  layer_in=self.gen_outs[-1],)\n",
    "  \n",
    "            \n",
    "            \n",
    "\n",
    "\n",
    "            #- Calculate loss                           -#\n",
    "            loss = 0\n",
    "            real_obsv = partial_circulant_torch(img, self.filters, self.indices,\n",
    "                                                   self.sign_pattern)\n",
    "            gen_obsv = partial_circulant_torch(img_gen, self.filters, self.indices,\n",
    "                                                   self.sign_pattern)\n",
    "            mse_loss = F.mse_loss(real_obsv, gen_obsv).mean()\n",
    "            reference_vector =img\n",
    "            loss += mse_loss\n",
    "            loss += self.configs['geocross']* loss_geocross(self.latent_z[2 * start_layer:])\n",
    "            if reference_vector is not None:\n",
    "                reference_loss = F.mse_loss(img_gen, reference_vector)\n",
    "\n",
    "            optimizer.zero_grad()\n",
    "            loss.backward()\n",
    "            optimizer.step()\n",
    "\n",
    "            if self.project:\n",
    "                ps.step()\n",
    "\n",
    "            if (reference_vector is not None) and self.configs['save_on_ref'] and reference_loss < mse_min:\n",
    "                mse_min = reference_loss\n",
    "                self.best = img_gen.detach().cpu().numpy().transpose(0,2,3,1)\n",
    "            elif mse_loss < mse_min:\n",
    "                mse_min = mse_loss\n",
    "                self.best = img_gen.detach().cpu().numpy().transpose(0,2,3,1)\n",
    "\n",
    "            pbar.set_description(\n",
    "                (\n",
    "                    f\" mse: {mse_loss:.4f};\"\n",
    "                    f\" img_mse: {reference_loss:.4f};\"\n",
    "                )\n",
    "            )\n",
    "        \n",
    "        with torch.no_grad():\n",
    "            latent_w = self.mpl(self.latent_z)\n",
    "            self.gen.end_layer = self.gen.start_layer\n",
    "            intermediate_out, _  = self.gen([latent_w],\n",
    "                                             input_is_latent=True,\n",
    "                                             noise=self.noises,\n",
    "                                             layer_in=self.gen_outs[-1],\n",
    "                                             skip=None)\n",
    "            self.gen_outs.append(intermediate_out)\n",
    "            self.gen.end_layer = self.configs['end_layer']\n",
    "\n",
    "    def invert(self,img,reference_vector=None):\n",
    "        for i, steps in enumerate(self.configs['steps']):\n",
    "            begin_from = i \n",
    "            if begin_from > self.configs['end_layer']:\n",
    "                raise Exception('Attempting to go after end layer...')\n",
    "            self.invert_(img,begin_from, range(5 + 2 * begin_from), int(steps), i, reference_vector)\n",
    "        return img.cpu().numpy().transpose(0,2,3,1), (self.latent_z, self.noises, self.gen_outs), self.best\n",
    "\n"
   ]
  },
  {
   "cell_type": "markdown",
   "id": "e497a58e",
   "metadata": {},
   "source": [
    "## ILO-RTIL"
   ]
  },
  {
   "cell_type": "code",
   "execution_count": 3,
   "id": "6e96f686",
   "metadata": {
    "scrolled": true
   },
   "outputs": [
    {
     "name": "stdout",
     "output_type": "stream",
     "text": [
      "********** Percentage of Measurements 10 **********\n",
      "Running round 1 / 5 of ILO.\n"
     ]
    },
    {
     "data": {
      "application/vnd.jupyter.widget-view+json": {
       "model_id": "9e1b2219086c40f18c3de3f75b58a830",
       "version_major": 2,
       "version_minor": 0
      },
      "text/plain": [
       "  0%|          | 0/2000 [00:00<?, ?it/s]"
      ]
     },
     "metadata": {},
     "output_type": "display_data"
    },
    {
     "name": "stdout",
     "output_type": "stream",
     "text": [
      "Running round 2 / 5 of ILO.\n"
     ]
    },
    {
     "data": {
      "application/vnd.jupyter.widget-view+json": {
       "model_id": "67bc8dc16bce42dfbbf28a8ffc397e3c",
       "version_major": 2,
       "version_minor": 0
      },
      "text/plain": [
       "  0%|          | 0/1000 [00:00<?, ?it/s]"
      ]
     },
     "metadata": {},
     "output_type": "display_data"
    },
    {
     "name": "stdout",
     "output_type": "stream",
     "text": [
      "Running round 3 / 5 of ILO.\n"
     ]
    },
    {
     "data": {
      "application/vnd.jupyter.widget-view+json": {
       "model_id": "4636d1dcee374f1f9a9e2f471032957e",
       "version_major": 2,
       "version_minor": 0
      },
      "text/plain": [
       "  0%|          | 0/1000 [00:00<?, ?it/s]"
      ]
     },
     "metadata": {},
     "output_type": "display_data"
    },
    {
     "name": "stdout",
     "output_type": "stream",
     "text": [
      "Running round 4 / 5 of ILO.\n"
     ]
    },
    {
     "data": {
      "application/vnd.jupyter.widget-view+json": {
       "model_id": "876d3cce13e64621ace6585d5a261946",
       "version_major": 2,
       "version_minor": 0
      },
      "text/plain": [
       "  0%|          | 0/1000 [00:00<?, ?it/s]"
      ]
     },
     "metadata": {},
     "output_type": "display_data"
    },
    {
     "name": "stdout",
     "output_type": "stream",
     "text": [
      "Running round 5 / 5 of ILO.\n"
     ]
    },
    {
     "data": {
      "application/vnd.jupyter.widget-view+json": {
       "model_id": "08fa4a5ed8564da08c57ce71e6ef7571",
       "version_major": 2,
       "version_minor": 0
      },
      "text/plain": [
       "  0%|          | 0/2000 [00:00<?, ?it/s]"
      ]
     },
     "metadata": {},
     "output_type": "display_data"
    },
    {
     "name": "stdout",
     "output_type": "stream",
     "text": [
      "********** PSNR Per image 33.8000913427742 **********\n",
      "Number of images recovered 1 Out of 3\n",
      "Running round 1 / 5 of ILO.\n"
     ]
    },
    {
     "data": {
      "application/vnd.jupyter.widget-view+json": {
       "model_id": "57fae82046ec43c795adfaf3c706b161",
       "version_major": 2,
       "version_minor": 0
      },
      "text/plain": [
       "  0%|          | 0/2000 [00:00<?, ?it/s]"
      ]
     },
     "metadata": {},
     "output_type": "display_data"
    },
    {
     "name": "stdout",
     "output_type": "stream",
     "text": [
      "Running round 2 / 5 of ILO.\n"
     ]
    },
    {
     "data": {
      "application/vnd.jupyter.widget-view+json": {
       "model_id": "fc12011d765842f5a21c9e002be49c88",
       "version_major": 2,
       "version_minor": 0
      },
      "text/plain": [
       "  0%|          | 0/1000 [00:00<?, ?it/s]"
      ]
     },
     "metadata": {},
     "output_type": "display_data"
    },
    {
     "name": "stdout",
     "output_type": "stream",
     "text": [
      "Running round 3 / 5 of ILO.\n"
     ]
    },
    {
     "data": {
      "application/vnd.jupyter.widget-view+json": {
       "model_id": "5249da98f6e744748f1b2c837208467c",
       "version_major": 2,
       "version_minor": 0
      },
      "text/plain": [
       "  0%|          | 0/1000 [00:00<?, ?it/s]"
      ]
     },
     "metadata": {},
     "output_type": "display_data"
    },
    {
     "name": "stdout",
     "output_type": "stream",
     "text": [
      "Running round 4 / 5 of ILO.\n"
     ]
    },
    {
     "data": {
      "application/vnd.jupyter.widget-view+json": {
       "model_id": "b6356dcc384944df81e1d72835f6f916",
       "version_major": 2,
       "version_minor": 0
      },
      "text/plain": [
       "  0%|          | 0/1000 [00:00<?, ?it/s]"
      ]
     },
     "metadata": {},
     "output_type": "display_data"
    },
    {
     "name": "stdout",
     "output_type": "stream",
     "text": [
      "Running round 5 / 5 of ILO.\n"
     ]
    },
    {
     "data": {
      "application/vnd.jupyter.widget-view+json": {
       "model_id": "9d6087a7d18d4704b915370768f859bb",
       "version_major": 2,
       "version_minor": 0
      },
      "text/plain": [
       "  0%|          | 0/2000 [00:00<?, ?it/s]"
      ]
     },
     "metadata": {},
     "output_type": "display_data"
    },
    {
     "name": "stdout",
     "output_type": "stream",
     "text": [
      "********** PSNR Per image 33.0027052795966 **********\n",
      "Number of images recovered 2 Out of 3\n",
      "Running round 1 / 5 of ILO.\n"
     ]
    },
    {
     "data": {
      "application/vnd.jupyter.widget-view+json": {
       "model_id": "48a5099510e74429a1be677affd97717",
       "version_major": 2,
       "version_minor": 0
      },
      "text/plain": [
       "  0%|          | 0/2000 [00:00<?, ?it/s]"
      ]
     },
     "metadata": {},
     "output_type": "display_data"
    },
    {
     "name": "stdout",
     "output_type": "stream",
     "text": [
      "Running round 2 / 5 of ILO.\n"
     ]
    },
    {
     "data": {
      "application/vnd.jupyter.widget-view+json": {
       "model_id": "a36aa08bd3374c7b872807daa53e2e98",
       "version_major": 2,
       "version_minor": 0
      },
      "text/plain": [
       "  0%|          | 0/1000 [00:00<?, ?it/s]"
      ]
     },
     "metadata": {},
     "output_type": "display_data"
    },
    {
     "name": "stdout",
     "output_type": "stream",
     "text": [
      "Running round 3 / 5 of ILO.\n"
     ]
    },
    {
     "data": {
      "application/vnd.jupyter.widget-view+json": {
       "model_id": "17715530ac684f73b29a17dea5e92016",
       "version_major": 2,
       "version_minor": 0
      },
      "text/plain": [
       "  0%|          | 0/1000 [00:00<?, ?it/s]"
      ]
     },
     "metadata": {},
     "output_type": "display_data"
    },
    {
     "name": "stdout",
     "output_type": "stream",
     "text": [
      "Running round 4 / 5 of ILO.\n"
     ]
    },
    {
     "data": {
      "application/vnd.jupyter.widget-view+json": {
       "model_id": "119b961e66674ab7ad586d29e9a48c26",
       "version_major": 2,
       "version_minor": 0
      },
      "text/plain": [
       "  0%|          | 0/1000 [00:00<?, ?it/s]"
      ]
     },
     "metadata": {},
     "output_type": "display_data"
    },
    {
     "name": "stdout",
     "output_type": "stream",
     "text": [
      "Running round 5 / 5 of ILO.\n"
     ]
    },
    {
     "data": {
      "application/vnd.jupyter.widget-view+json": {
       "model_id": "045874a133c04cde8e25c6a16579a3e9",
       "version_major": 2,
       "version_minor": 0
      },
      "text/plain": [
       "  0%|          | 0/2000 [00:00<?, ?it/s]"
      ]
     },
     "metadata": {},
     "output_type": "display_data"
    },
    {
     "name": "stdout",
     "output_type": "stream",
     "text": [
      "********** PSNR Per image 33.25011833696883 **********\n",
      "Number of images recovered 3 Out of 3\n",
      "********** Percentage of Measurements End of Experiment 10 **********\n",
      "********** Percentage of Measurements 10 **********\n",
      "********** PSNR 33.35097165311321 **********\n",
      "********** Percentage of Measurements 5 **********\n",
      "Running round 1 / 5 of ILO.\n"
     ]
    },
    {
     "data": {
      "application/vnd.jupyter.widget-view+json": {
       "model_id": "df787e2c845948ae9f3434a057ecaf05",
       "version_major": 2,
       "version_minor": 0
      },
      "text/plain": [
       "  0%|          | 0/2000 [00:00<?, ?it/s]"
      ]
     },
     "metadata": {},
     "output_type": "display_data"
    },
    {
     "name": "stdout",
     "output_type": "stream",
     "text": [
      "Running round 2 / 5 of ILO.\n"
     ]
    },
    {
     "data": {
      "application/vnd.jupyter.widget-view+json": {
       "model_id": "e35dcce610114e3c89cd5ba56db64d28",
       "version_major": 2,
       "version_minor": 0
      },
      "text/plain": [
       "  0%|          | 0/1000 [00:00<?, ?it/s]"
      ]
     },
     "metadata": {},
     "output_type": "display_data"
    },
    {
     "name": "stdout",
     "output_type": "stream",
     "text": [
      "Running round 3 / 5 of ILO.\n"
     ]
    },
    {
     "data": {
      "application/vnd.jupyter.widget-view+json": {
       "model_id": "eae861234247485b9ee8a416816ad7f7",
       "version_major": 2,
       "version_minor": 0
      },
      "text/plain": [
       "  0%|          | 0/1000 [00:00<?, ?it/s]"
      ]
     },
     "metadata": {},
     "output_type": "display_data"
    },
    {
     "name": "stdout",
     "output_type": "stream",
     "text": [
      "Running round 4 / 5 of ILO.\n"
     ]
    },
    {
     "data": {
      "application/vnd.jupyter.widget-view+json": {
       "model_id": "2338e201f69a45139f2c6994963b5653",
       "version_major": 2,
       "version_minor": 0
      },
      "text/plain": [
       "  0%|          | 0/1000 [00:00<?, ?it/s]"
      ]
     },
     "metadata": {},
     "output_type": "display_data"
    },
    {
     "name": "stdout",
     "output_type": "stream",
     "text": [
      "Running round 5 / 5 of ILO.\n"
     ]
    },
    {
     "data": {
      "application/vnd.jupyter.widget-view+json": {
       "model_id": "4e68157134da4173a4a475f1e5be5f27",
       "version_major": 2,
       "version_minor": 0
      },
      "text/plain": [
       "  0%|          | 0/2000 [00:00<?, ?it/s]"
      ]
     },
     "metadata": {},
     "output_type": "display_data"
    },
    {
     "name": "stdout",
     "output_type": "stream",
     "text": [
      "********** PSNR Per image 30.531999517664485 **********\n",
      "Number of images recovered 1 Out of 3\n",
      "Running round 1 / 5 of ILO.\n"
     ]
    },
    {
     "data": {
      "application/vnd.jupyter.widget-view+json": {
       "model_id": "7c212deaa05a4632914a2ba5ccd3c1ed",
       "version_major": 2,
       "version_minor": 0
      },
      "text/plain": [
       "  0%|          | 0/2000 [00:00<?, ?it/s]"
      ]
     },
     "metadata": {},
     "output_type": "display_data"
    },
    {
     "name": "stdout",
     "output_type": "stream",
     "text": [
      "Running round 2 / 5 of ILO.\n"
     ]
    },
    {
     "data": {
      "application/vnd.jupyter.widget-view+json": {
       "model_id": "29cde8f0d4a0414bbabe89dd4559ad4b",
       "version_major": 2,
       "version_minor": 0
      },
      "text/plain": [
       "  0%|          | 0/1000 [00:00<?, ?it/s]"
      ]
     },
     "metadata": {},
     "output_type": "display_data"
    },
    {
     "name": "stdout",
     "output_type": "stream",
     "text": [
      "Running round 3 / 5 of ILO.\n"
     ]
    },
    {
     "data": {
      "application/vnd.jupyter.widget-view+json": {
       "model_id": "00a74b9a739c4401bfe1f3aa84199772",
       "version_major": 2,
       "version_minor": 0
      },
      "text/plain": [
       "  0%|          | 0/1000 [00:00<?, ?it/s]"
      ]
     },
     "metadata": {},
     "output_type": "display_data"
    },
    {
     "name": "stdout",
     "output_type": "stream",
     "text": [
      "Running round 4 / 5 of ILO.\n"
     ]
    },
    {
     "data": {
      "application/vnd.jupyter.widget-view+json": {
       "model_id": "43b28afdd7f24ddc94d24ec070ce4385",
       "version_major": 2,
       "version_minor": 0
      },
      "text/plain": [
       "  0%|          | 0/1000 [00:00<?, ?it/s]"
      ]
     },
     "metadata": {},
     "output_type": "display_data"
    },
    {
     "name": "stdout",
     "output_type": "stream",
     "text": [
      "Running round 5 / 5 of ILO.\n"
     ]
    },
    {
     "data": {
      "application/vnd.jupyter.widget-view+json": {
       "model_id": "f055b2a939354be896627fa5c2b139c8",
       "version_major": 2,
       "version_minor": 0
      },
      "text/plain": [
       "  0%|          | 0/2000 [00:00<?, ?it/s]"
      ]
     },
     "metadata": {},
     "output_type": "display_data"
    },
    {
     "name": "stdout",
     "output_type": "stream",
     "text": [
      "********** PSNR Per image 29.8535770476973 **********\n",
      "Number of images recovered 2 Out of 3\n",
      "Running round 1 / 5 of ILO.\n"
     ]
    },
    {
     "data": {
      "application/vnd.jupyter.widget-view+json": {
       "model_id": "d7276b7f9542479c8c1fa8b4f3af26a7",
       "version_major": 2,
       "version_minor": 0
      },
      "text/plain": [
       "  0%|          | 0/2000 [00:00<?, ?it/s]"
      ]
     },
     "metadata": {},
     "output_type": "display_data"
    },
    {
     "name": "stdout",
     "output_type": "stream",
     "text": [
      "Running round 2 / 5 of ILO.\n"
     ]
    },
    {
     "data": {
      "application/vnd.jupyter.widget-view+json": {
       "model_id": "5e2f7aaf47db4be8989b4641872f019d",
       "version_major": 2,
       "version_minor": 0
      },
      "text/plain": [
       "  0%|          | 0/1000 [00:00<?, ?it/s]"
      ]
     },
     "metadata": {},
     "output_type": "display_data"
    },
    {
     "name": "stdout",
     "output_type": "stream",
     "text": [
      "Running round 3 / 5 of ILO.\n"
     ]
    },
    {
     "data": {
      "application/vnd.jupyter.widget-view+json": {
       "model_id": "d4adb52585d841a28a0deb9e7f8eb8fa",
       "version_major": 2,
       "version_minor": 0
      },
      "text/plain": [
       "  0%|          | 0/1000 [00:00<?, ?it/s]"
      ]
     },
     "metadata": {},
     "output_type": "display_data"
    },
    {
     "name": "stdout",
     "output_type": "stream",
     "text": [
      "Running round 4 / 5 of ILO.\n"
     ]
    },
    {
     "data": {
      "application/vnd.jupyter.widget-view+json": {
       "model_id": "255fb87120bb439a89e858bf6b0f891b",
       "version_major": 2,
       "version_minor": 0
      },
      "text/plain": [
       "  0%|          | 0/1000 [00:00<?, ?it/s]"
      ]
     },
     "metadata": {},
     "output_type": "display_data"
    },
    {
     "name": "stdout",
     "output_type": "stream",
     "text": [
      "Running round 5 / 5 of ILO.\n"
     ]
    },
    {
     "data": {
      "application/vnd.jupyter.widget-view+json": {
       "model_id": "450c76d7291044f9b7a297ae7956fc3d",
       "version_major": 2,
       "version_minor": 0
      },
      "text/plain": [
       "  0%|          | 0/2000 [00:00<?, ?it/s]"
      ]
     },
     "metadata": {},
     "output_type": "display_data"
    },
    {
     "name": "stdout",
     "output_type": "stream",
     "text": [
      "********** PSNR Per image 28.89499569023547 **********\n",
      "Number of images recovered 3 Out of 3\n",
      "********** Percentage of Measurements End of Experiment 5 **********\n",
      "********** Percentage of Measurements 5 **********\n",
      "********** PSNR 29.760190751865753 **********\n",
      "********** Percentage of Measurements 1 **********\n",
      "Running round 1 / 5 of ILO.\n"
     ]
    },
    {
     "data": {
      "application/vnd.jupyter.widget-view+json": {
       "model_id": "09452a9fc5dd46b8a43ed001e661858f",
       "version_major": 2,
       "version_minor": 0
      },
      "text/plain": [
       "  0%|          | 0/2000 [00:00<?, ?it/s]"
      ]
     },
     "metadata": {},
     "output_type": "display_data"
    },
    {
     "name": "stdout",
     "output_type": "stream",
     "text": [
      "Running round 2 / 5 of ILO.\n"
     ]
    },
    {
     "data": {
      "application/vnd.jupyter.widget-view+json": {
       "model_id": "33e5cc1ebc7e42e8b27d68a1604fca34",
       "version_major": 2,
       "version_minor": 0
      },
      "text/plain": [
       "  0%|          | 0/1000 [00:00<?, ?it/s]"
      ]
     },
     "metadata": {},
     "output_type": "display_data"
    },
    {
     "name": "stdout",
     "output_type": "stream",
     "text": [
      "Running round 3 / 5 of ILO.\n"
     ]
    },
    {
     "data": {
      "application/vnd.jupyter.widget-view+json": {
       "model_id": "b02663af41f147ef824dbdaf24440519",
       "version_major": 2,
       "version_minor": 0
      },
      "text/plain": [
       "  0%|          | 0/1000 [00:00<?, ?it/s]"
      ]
     },
     "metadata": {},
     "output_type": "display_data"
    },
    {
     "name": "stdout",
     "output_type": "stream",
     "text": [
      "Running round 4 / 5 of ILO.\n"
     ]
    },
    {
     "data": {
      "application/vnd.jupyter.widget-view+json": {
       "model_id": "5ed59695677441719865da97217044d5",
       "version_major": 2,
       "version_minor": 0
      },
      "text/plain": [
       "  0%|          | 0/1000 [00:00<?, ?it/s]"
      ]
     },
     "metadata": {},
     "output_type": "display_data"
    },
    {
     "name": "stdout",
     "output_type": "stream",
     "text": [
      "Running round 5 / 5 of ILO.\n"
     ]
    },
    {
     "data": {
      "application/vnd.jupyter.widget-view+json": {
       "model_id": "7a15d287a7ab45038e02e00ee9f9f3c4",
       "version_major": 2,
       "version_minor": 0
      },
      "text/plain": [
       "  0%|          | 0/2000 [00:00<?, ?it/s]"
      ]
     },
     "metadata": {},
     "output_type": "display_data"
    },
    {
     "name": "stdout",
     "output_type": "stream",
     "text": [
      "********** PSNR Per image 25.320846638814295 **********\n",
      "Number of images recovered 1 Out of 3\n",
      "Running round 1 / 5 of ILO.\n"
     ]
    },
    {
     "data": {
      "application/vnd.jupyter.widget-view+json": {
       "model_id": "74954fd6eb6d44bca19bdacc81a2ed6a",
       "version_major": 2,
       "version_minor": 0
      },
      "text/plain": [
       "  0%|          | 0/2000 [00:00<?, ?it/s]"
      ]
     },
     "metadata": {},
     "output_type": "display_data"
    },
    {
     "name": "stdout",
     "output_type": "stream",
     "text": [
      "Running round 2 / 5 of ILO.\n"
     ]
    },
    {
     "data": {
      "application/vnd.jupyter.widget-view+json": {
       "model_id": "b93670b22f1e4a849966fc3a1a4bfe28",
       "version_major": 2,
       "version_minor": 0
      },
      "text/plain": [
       "  0%|          | 0/1000 [00:00<?, ?it/s]"
      ]
     },
     "metadata": {},
     "output_type": "display_data"
    },
    {
     "name": "stdout",
     "output_type": "stream",
     "text": [
      "Running round 3 / 5 of ILO.\n"
     ]
    },
    {
     "data": {
      "application/vnd.jupyter.widget-view+json": {
       "model_id": "f9663838d9b044cb99ca899f1a97ec4d",
       "version_major": 2,
       "version_minor": 0
      },
      "text/plain": [
       "  0%|          | 0/1000 [00:00<?, ?it/s]"
      ]
     },
     "metadata": {},
     "output_type": "display_data"
    },
    {
     "name": "stdout",
     "output_type": "stream",
     "text": [
      "Running round 4 / 5 of ILO.\n"
     ]
    },
    {
     "data": {
      "application/vnd.jupyter.widget-view+json": {
       "model_id": "3b539709c52148ddbcfee05994136827",
       "version_major": 2,
       "version_minor": 0
      },
      "text/plain": [
       "  0%|          | 0/1000 [00:00<?, ?it/s]"
      ]
     },
     "metadata": {},
     "output_type": "display_data"
    },
    {
     "name": "stdout",
     "output_type": "stream",
     "text": [
      "Running round 5 / 5 of ILO.\n"
     ]
    },
    {
     "data": {
      "application/vnd.jupyter.widget-view+json": {
       "model_id": "3234bc8aeb5648b7b8ac8f5982c64067",
       "version_major": 2,
       "version_minor": 0
      },
      "text/plain": [
       "  0%|          | 0/2000 [00:00<?, ?it/s]"
      ]
     },
     "metadata": {},
     "output_type": "display_data"
    },
    {
     "name": "stdout",
     "output_type": "stream",
     "text": [
      "********** PSNR Per image 24.74168932957181 **********\n",
      "Number of images recovered 2 Out of 3\n",
      "Running round 1 / 5 of ILO.\n"
     ]
    },
    {
     "data": {
      "application/vnd.jupyter.widget-view+json": {
       "model_id": "2cc8021bddf247fa9da2a2e074e0d9a5",
       "version_major": 2,
       "version_minor": 0
      },
      "text/plain": [
       "  0%|          | 0/2000 [00:00<?, ?it/s]"
      ]
     },
     "metadata": {},
     "output_type": "display_data"
    },
    {
     "name": "stdout",
     "output_type": "stream",
     "text": [
      "Running round 2 / 5 of ILO.\n"
     ]
    },
    {
     "data": {
      "application/vnd.jupyter.widget-view+json": {
       "model_id": "8870311f19c84ab0bc90fea7e922c3fd",
       "version_major": 2,
       "version_minor": 0
      },
      "text/plain": [
       "  0%|          | 0/1000 [00:00<?, ?it/s]"
      ]
     },
     "metadata": {},
     "output_type": "display_data"
    },
    {
     "name": "stdout",
     "output_type": "stream",
     "text": [
      "Running round 3 / 5 of ILO.\n"
     ]
    },
    {
     "data": {
      "application/vnd.jupyter.widget-view+json": {
       "model_id": "d45dca39eee54670ac18d6c0a8916f21",
       "version_major": 2,
       "version_minor": 0
      },
      "text/plain": [
       "  0%|          | 0/1000 [00:00<?, ?it/s]"
      ]
     },
     "metadata": {},
     "output_type": "display_data"
    },
    {
     "name": "stdout",
     "output_type": "stream",
     "text": [
      "Running round 4 / 5 of ILO.\n"
     ]
    },
    {
     "data": {
      "application/vnd.jupyter.widget-view+json": {
       "model_id": "f30a3fd8456c4472a639cd3fdb6b1673",
       "version_major": 2,
       "version_minor": 0
      },
      "text/plain": [
       "  0%|          | 0/1000 [00:00<?, ?it/s]"
      ]
     },
     "metadata": {},
     "output_type": "display_data"
    },
    {
     "name": "stdout",
     "output_type": "stream",
     "text": [
      "Running round 5 / 5 of ILO.\n"
     ]
    },
    {
     "data": {
      "application/vnd.jupyter.widget-view+json": {
       "model_id": "d08d46649a9b4d4899f326fd18bd88da",
       "version_major": 2,
       "version_minor": 0
      },
      "text/plain": [
       "  0%|          | 0/2000 [00:00<?, ?it/s]"
      ]
     },
     "metadata": {},
     "output_type": "display_data"
    },
    {
     "name": "stdout",
     "output_type": "stream",
     "text": [
      "********** PSNR Per image 23.665568544359708 **********\n",
      "Number of images recovered 3 Out of 3\n",
      "********** Percentage of Measurements End of Experiment 1 **********\n",
      "********** Percentage of Measurements 1 **********\n",
      "********** PSNR 24.576034837581933 **********\n"
     ]
    }
   ],
   "source": [
    "with open('config.yaml') as f:\n",
    "    configs = yaml.safe_load(f)\n",
    "Rtil_configs=configs.get('Rtil')\n",
    "trans = transforms.Compose([transforms.Resize((Rtil_configs['image_size'])),transforms.ToTensor()])\n",
    "test_dataset    = datasets.ImageFolder(Rtil_configs['test_set'], transform=trans)\n",
    "test_dataloader = torch.utils.data.DataLoader(test_dataset,batch_size=Rtil_configs['batch_size'],drop_last=False,shuffle=False)\n",
    "for measurements in Rtil_configs['perc_m']:\n",
    "    original=[]\n",
    "    recovered=[]\n",
    "    print('*'*10,'Percentage of Measurements',measurements,'*'*10)\n",
    "    for i, data in enumerate(test_dataloader):\n",
    "        latent_opt=LatentOptimizer(Rtil_configs,measurements)\n",
    "        img=data[0].to(Rtil_configs['device'])\n",
    "        org_img,latent,img_gen=latent_opt.invert(img)\n",
    "        original.append(org_img)\n",
    "        recovered.append(np.clip(img_gen,0,1))\n",
    "        psnr_img=compare_psnr(original[i], recovered[i])\n",
    "        print('*'*10,'PSNR Per image',psnr_img,'*'*10)\n",
    "        print('Number of images recovered',i+1, 'Out of',len(test_dataloader))\n",
    "        torch.cuda.empty_cache()\n",
    "    Original  = np.vstack(original)\n",
    "    Recovered = np.vstack(recovered)\n",
    "    print('*'*10,'Percentage of Measurements End of Experiment',measurements,'*'*10)\n",
    "    psnr      = [compare_psnr(x, y) for x,y in zip(Original, Recovered)]\n",
    "    print('*'*10,'Percentage of Measurements',measurements,'*'*10)\n",
    "    print('*'*10,'PSNR',np.mean(psnr),'*'*10)\n",
    "    original.clear()\n",
    "    recovered.clear()\n",
    "    path=Rtil_configs['save_folder']\n",
    "    if not os.path.exists(path):\n",
    "        os.makedirs(path)\n",
    "             \n",
    "    np.save(path+\"/original.npy\", Original)\n",
    "    np.save(path+\"/recovered_\"+ str(measurements)+ \"%\" + \".npy\", Recovered)\n",
    "    np.save(path+\"/psnr_\" + str(measurements)+ \"%\" + \".npy\",np.mean(psnr))\n",
    "\n"
   ]
  },
  {
   "cell_type": "markdown",
   "id": "ba968e57",
   "metadata": {},
   "source": [
    "## ILO"
   ]
  },
  {
   "cell_type": "code",
   "execution_count": 5,
   "id": "22e1ea20",
   "metadata": {},
   "outputs": [
    {
     "name": "stdout",
     "output_type": "stream",
     "text": [
      "********** Percentage of Measurements 10 **********\n",
      "Running round 1 / 5 of ILO.\n"
     ]
    },
    {
     "data": {
      "application/vnd.jupyter.widget-view+json": {
       "model_id": "87aa4e9ebfc542cdaeaa5c4bbed556af",
       "version_major": 2,
       "version_minor": 0
      },
      "text/plain": [
       "  0%|          | 0/2000 [00:00<?, ?it/s]"
      ]
     },
     "metadata": {},
     "output_type": "display_data"
    },
    {
     "name": "stdout",
     "output_type": "stream",
     "text": [
      "Running round 2 / 5 of ILO.\n"
     ]
    },
    {
     "data": {
      "application/vnd.jupyter.widget-view+json": {
       "model_id": "a08eeb1648d845beb730e036db0d050b",
       "version_major": 2,
       "version_minor": 0
      },
      "text/plain": [
       "  0%|          | 0/1000 [00:00<?, ?it/s]"
      ]
     },
     "metadata": {},
     "output_type": "display_data"
    },
    {
     "name": "stdout",
     "output_type": "stream",
     "text": [
      "Running round 3 / 5 of ILO.\n"
     ]
    },
    {
     "data": {
      "application/vnd.jupyter.widget-view+json": {
       "model_id": "fa09fe81d24c422d9fb3a982e50e8c1d",
       "version_major": 2,
       "version_minor": 0
      },
      "text/plain": [
       "  0%|          | 0/1000 [00:00<?, ?it/s]"
      ]
     },
     "metadata": {},
     "output_type": "display_data"
    },
    {
     "name": "stdout",
     "output_type": "stream",
     "text": [
      "Running round 4 / 5 of ILO.\n"
     ]
    },
    {
     "data": {
      "application/vnd.jupyter.widget-view+json": {
       "model_id": "2de78a36dbfb45c9b712e036c1f188e4",
       "version_major": 2,
       "version_minor": 0
      },
      "text/plain": [
       "  0%|          | 0/1000 [00:00<?, ?it/s]"
      ]
     },
     "metadata": {},
     "output_type": "display_data"
    },
    {
     "name": "stdout",
     "output_type": "stream",
     "text": [
      "Running round 5 / 5 of ILO.\n"
     ]
    },
    {
     "data": {
      "application/vnd.jupyter.widget-view+json": {
       "model_id": "9cfd15f48c2a4e45b5c7fcb0123eddeb",
       "version_major": 2,
       "version_minor": 0
      },
      "text/plain": [
       "  0%|          | 0/2000 [00:00<?, ?it/s]"
      ]
     },
     "metadata": {},
     "output_type": "display_data"
    },
    {
     "name": "stdout",
     "output_type": "stream",
     "text": [
      "********** PSNR Per image 32.30513440684576 **********\n",
      "Number of images recovered 1 Out of 3\n",
      "Running round 1 / 5 of ILO.\n"
     ]
    },
    {
     "data": {
      "application/vnd.jupyter.widget-view+json": {
       "model_id": "f7c014c190a04200903451ec822159c7",
       "version_major": 2,
       "version_minor": 0
      },
      "text/plain": [
       "  0%|          | 0/2000 [00:00<?, ?it/s]"
      ]
     },
     "metadata": {},
     "output_type": "display_data"
    },
    {
     "name": "stdout",
     "output_type": "stream",
     "text": [
      "Running round 2 / 5 of ILO.\n"
     ]
    },
    {
     "data": {
      "application/vnd.jupyter.widget-view+json": {
       "model_id": "e9e3d0eca22044afbe7b670694ced13a",
       "version_major": 2,
       "version_minor": 0
      },
      "text/plain": [
       "  0%|          | 0/1000 [00:00<?, ?it/s]"
      ]
     },
     "metadata": {},
     "output_type": "display_data"
    },
    {
     "name": "stdout",
     "output_type": "stream",
     "text": [
      "Running round 3 / 5 of ILO.\n"
     ]
    },
    {
     "data": {
      "application/vnd.jupyter.widget-view+json": {
       "model_id": "3ce7b95c9e9d453c807028dc69e54582",
       "version_major": 2,
       "version_minor": 0
      },
      "text/plain": [
       "  0%|          | 0/1000 [00:00<?, ?it/s]"
      ]
     },
     "metadata": {},
     "output_type": "display_data"
    },
    {
     "name": "stdout",
     "output_type": "stream",
     "text": [
      "Running round 4 / 5 of ILO.\n"
     ]
    },
    {
     "data": {
      "application/vnd.jupyter.widget-view+json": {
       "model_id": "25e41caf213b48a2a7b7b34c87478803",
       "version_major": 2,
       "version_minor": 0
      },
      "text/plain": [
       "  0%|          | 0/1000 [00:00<?, ?it/s]"
      ]
     },
     "metadata": {},
     "output_type": "display_data"
    },
    {
     "name": "stdout",
     "output_type": "stream",
     "text": [
      "Running round 5 / 5 of ILO.\n"
     ]
    },
    {
     "data": {
      "application/vnd.jupyter.widget-view+json": {
       "model_id": "fccba6465f634e15a94b7f85fc54c4a8",
       "version_major": 2,
       "version_minor": 0
      },
      "text/plain": [
       "  0%|          | 0/2000 [00:00<?, ?it/s]"
      ]
     },
     "metadata": {},
     "output_type": "display_data"
    },
    {
     "name": "stdout",
     "output_type": "stream",
     "text": [
      "********** PSNR Per image 30.22649710138335 **********\n",
      "Number of images recovered 2 Out of 3\n",
      "Running round 1 / 5 of ILO.\n"
     ]
    },
    {
     "data": {
      "application/vnd.jupyter.widget-view+json": {
       "model_id": "a1f796244ae749729431bfeef1ccdc30",
       "version_major": 2,
       "version_minor": 0
      },
      "text/plain": [
       "  0%|          | 0/2000 [00:00<?, ?it/s]"
      ]
     },
     "metadata": {},
     "output_type": "display_data"
    },
    {
     "name": "stdout",
     "output_type": "stream",
     "text": [
      "Running round 2 / 5 of ILO.\n"
     ]
    },
    {
     "data": {
      "application/vnd.jupyter.widget-view+json": {
       "model_id": "562cdbfc4ce941ee81a78f067539fb18",
       "version_major": 2,
       "version_minor": 0
      },
      "text/plain": [
       "  0%|          | 0/1000 [00:00<?, ?it/s]"
      ]
     },
     "metadata": {},
     "output_type": "display_data"
    },
    {
     "name": "stdout",
     "output_type": "stream",
     "text": [
      "Running round 3 / 5 of ILO.\n"
     ]
    },
    {
     "data": {
      "application/vnd.jupyter.widget-view+json": {
       "model_id": "7129e04f6bc54c5a8db25ea6802e26a6",
       "version_major": 2,
       "version_minor": 0
      },
      "text/plain": [
       "  0%|          | 0/1000 [00:00<?, ?it/s]"
      ]
     },
     "metadata": {},
     "output_type": "display_data"
    },
    {
     "name": "stdout",
     "output_type": "stream",
     "text": [
      "Running round 4 / 5 of ILO.\n"
     ]
    },
    {
     "data": {
      "application/vnd.jupyter.widget-view+json": {
       "model_id": "4072f2b4d38242aaa443328e9acf5fbc",
       "version_major": 2,
       "version_minor": 0
      },
      "text/plain": [
       "  0%|          | 0/1000 [00:00<?, ?it/s]"
      ]
     },
     "metadata": {},
     "output_type": "display_data"
    },
    {
     "name": "stdout",
     "output_type": "stream",
     "text": [
      "Running round 5 / 5 of ILO.\n"
     ]
    },
    {
     "data": {
      "application/vnd.jupyter.widget-view+json": {
       "model_id": "34e5c9e561de4a7f824b98a9020c5e29",
       "version_major": 2,
       "version_minor": 0
      },
      "text/plain": [
       "  0%|          | 0/2000 [00:00<?, ?it/s]"
      ]
     },
     "metadata": {},
     "output_type": "display_data"
    },
    {
     "name": "stdout",
     "output_type": "stream",
     "text": [
      "********** PSNR Per image 31.316807897240892 **********\n",
      "Number of images recovered 3 Out of 3\n",
      "********** Percentage of Measurements End of Experiment 10 **********\n",
      "********** Percentage of Measurements 10 **********\n",
      "********** PSNR 31.28281313515667 **********\n",
      "********** Percentage of Measurements 5 **********\n",
      "Running round 1 / 5 of ILO.\n"
     ]
    },
    {
     "data": {
      "application/vnd.jupyter.widget-view+json": {
       "model_id": "5c7792c67753426988e28dc2000e28b5",
       "version_major": 2,
       "version_minor": 0
      },
      "text/plain": [
       "  0%|          | 0/2000 [00:00<?, ?it/s]"
      ]
     },
     "metadata": {},
     "output_type": "display_data"
    },
    {
     "name": "stdout",
     "output_type": "stream",
     "text": [
      "Running round 2 / 5 of ILO.\n"
     ]
    },
    {
     "data": {
      "application/vnd.jupyter.widget-view+json": {
       "model_id": "74ba5dbab4354745b7d0b4ea0dc41e15",
       "version_major": 2,
       "version_minor": 0
      },
      "text/plain": [
       "  0%|          | 0/1000 [00:00<?, ?it/s]"
      ]
     },
     "metadata": {},
     "output_type": "display_data"
    },
    {
     "name": "stdout",
     "output_type": "stream",
     "text": [
      "Running round 3 / 5 of ILO.\n"
     ]
    },
    {
     "data": {
      "application/vnd.jupyter.widget-view+json": {
       "model_id": "71f8b2f6141842218c2c8024dc83d36f",
       "version_major": 2,
       "version_minor": 0
      },
      "text/plain": [
       "  0%|          | 0/1000 [00:00<?, ?it/s]"
      ]
     },
     "metadata": {},
     "output_type": "display_data"
    },
    {
     "name": "stdout",
     "output_type": "stream",
     "text": [
      "Running round 4 / 5 of ILO.\n"
     ]
    },
    {
     "data": {
      "application/vnd.jupyter.widget-view+json": {
       "model_id": "73820fe66b5b44d1a18b32dde6e9b522",
       "version_major": 2,
       "version_minor": 0
      },
      "text/plain": [
       "  0%|          | 0/1000 [00:00<?, ?it/s]"
      ]
     },
     "metadata": {},
     "output_type": "display_data"
    },
    {
     "name": "stdout",
     "output_type": "stream",
     "text": [
      "Running round 5 / 5 of ILO.\n"
     ]
    },
    {
     "data": {
      "application/vnd.jupyter.widget-view+json": {
       "model_id": "a61be768d1f44330b297fceee53e8ad9",
       "version_major": 2,
       "version_minor": 0
      },
      "text/plain": [
       "  0%|          | 0/2000 [00:00<?, ?it/s]"
      ]
     },
     "metadata": {},
     "output_type": "display_data"
    },
    {
     "name": "stdout",
     "output_type": "stream",
     "text": [
      "********** PSNR Per image 29.555287258683084 **********\n",
      "Number of images recovered 1 Out of 3\n",
      "Running round 1 / 5 of ILO.\n"
     ]
    },
    {
     "data": {
      "application/vnd.jupyter.widget-view+json": {
       "model_id": "c20ab6c3f65e43f290a48888eb7a79d5",
       "version_major": 2,
       "version_minor": 0
      },
      "text/plain": [
       "  0%|          | 0/2000 [00:00<?, ?it/s]"
      ]
     },
     "metadata": {},
     "output_type": "display_data"
    },
    {
     "name": "stdout",
     "output_type": "stream",
     "text": [
      "Running round 2 / 5 of ILO.\n"
     ]
    },
    {
     "data": {
      "application/vnd.jupyter.widget-view+json": {
       "model_id": "d30b8d6e7c3c44e3892dda45d330f55f",
       "version_major": 2,
       "version_minor": 0
      },
      "text/plain": [
       "  0%|          | 0/1000 [00:00<?, ?it/s]"
      ]
     },
     "metadata": {},
     "output_type": "display_data"
    },
    {
     "name": "stdout",
     "output_type": "stream",
     "text": [
      "Running round 3 / 5 of ILO.\n"
     ]
    },
    {
     "data": {
      "application/vnd.jupyter.widget-view+json": {
       "model_id": "5ffda27c59bf47d7b254814d94d75bac",
       "version_major": 2,
       "version_minor": 0
      },
      "text/plain": [
       "  0%|          | 0/1000 [00:00<?, ?it/s]"
      ]
     },
     "metadata": {},
     "output_type": "display_data"
    },
    {
     "name": "stdout",
     "output_type": "stream",
     "text": [
      "Running round 4 / 5 of ILO.\n"
     ]
    },
    {
     "data": {
      "application/vnd.jupyter.widget-view+json": {
       "model_id": "2bc92671613945c8af6fc6ee37ca893b",
       "version_major": 2,
       "version_minor": 0
      },
      "text/plain": [
       "  0%|          | 0/1000 [00:00<?, ?it/s]"
      ]
     },
     "metadata": {},
     "output_type": "display_data"
    },
    {
     "name": "stdout",
     "output_type": "stream",
     "text": [
      "Running round 5 / 5 of ILO.\n"
     ]
    },
    {
     "data": {
      "application/vnd.jupyter.widget-view+json": {
       "model_id": "4ea1c57d35734655bca479ad27d82d93",
       "version_major": 2,
       "version_minor": 0
      },
      "text/plain": [
       "  0%|          | 0/2000 [00:00<?, ?it/s]"
      ]
     },
     "metadata": {},
     "output_type": "display_data"
    },
    {
     "name": "stdout",
     "output_type": "stream",
     "text": [
      "********** PSNR Per image 28.141632442172288 **********\n",
      "Number of images recovered 2 Out of 3\n",
      "Running round 1 / 5 of ILO.\n"
     ]
    },
    {
     "data": {
      "application/vnd.jupyter.widget-view+json": {
       "model_id": "7f3694582e8a43b8b3b5cba03fdf8a98",
       "version_major": 2,
       "version_minor": 0
      },
      "text/plain": [
       "  0%|          | 0/2000 [00:00<?, ?it/s]"
      ]
     },
     "metadata": {},
     "output_type": "display_data"
    },
    {
     "name": "stdout",
     "output_type": "stream",
     "text": [
      "Running round 2 / 5 of ILO.\n"
     ]
    },
    {
     "data": {
      "application/vnd.jupyter.widget-view+json": {
       "model_id": "49361dd6cd084a7fb25766cabe562bc1",
       "version_major": 2,
       "version_minor": 0
      },
      "text/plain": [
       "  0%|          | 0/1000 [00:00<?, ?it/s]"
      ]
     },
     "metadata": {},
     "output_type": "display_data"
    },
    {
     "name": "stdout",
     "output_type": "stream",
     "text": [
      "Running round 3 / 5 of ILO.\n"
     ]
    },
    {
     "data": {
      "application/vnd.jupyter.widget-view+json": {
       "model_id": "6b00dc1873da4a1e8c11b7bb246ccbd1",
       "version_major": 2,
       "version_minor": 0
      },
      "text/plain": [
       "  0%|          | 0/1000 [00:00<?, ?it/s]"
      ]
     },
     "metadata": {},
     "output_type": "display_data"
    },
    {
     "name": "stdout",
     "output_type": "stream",
     "text": [
      "Running round 4 / 5 of ILO.\n"
     ]
    },
    {
     "data": {
      "application/vnd.jupyter.widget-view+json": {
       "model_id": "112b7e1d531c4c2ca028d2e0b4cb3f11",
       "version_major": 2,
       "version_minor": 0
      },
      "text/plain": [
       "  0%|          | 0/1000 [00:00<?, ?it/s]"
      ]
     },
     "metadata": {},
     "output_type": "display_data"
    },
    {
     "name": "stdout",
     "output_type": "stream",
     "text": [
      "Running round 5 / 5 of ILO.\n"
     ]
    },
    {
     "data": {
      "application/vnd.jupyter.widget-view+json": {
       "model_id": "db4b8641d3dc41c3b5d5504e430d88ea",
       "version_major": 2,
       "version_minor": 0
      },
      "text/plain": [
       "  0%|          | 0/2000 [00:00<?, ?it/s]"
      ]
     },
     "metadata": {},
     "output_type": "display_data"
    },
    {
     "name": "stdout",
     "output_type": "stream",
     "text": [
      "********** PSNR Per image 28.266165300358807 **********\n",
      "Number of images recovered 3 Out of 3\n",
      "********** Percentage of Measurements End of Experiment 5 **********\n",
      "********** Percentage of Measurements 5 **********\n",
      "********** PSNR 28.654361667071395 **********\n",
      "********** Percentage of Measurements 1 **********\n",
      "Running round 1 / 5 of ILO.\n"
     ]
    },
    {
     "data": {
      "application/vnd.jupyter.widget-view+json": {
       "model_id": "9ab25ff82db64d109c32930fe9ee1e05",
       "version_major": 2,
       "version_minor": 0
      },
      "text/plain": [
       "  0%|          | 0/2000 [00:00<?, ?it/s]"
      ]
     },
     "metadata": {},
     "output_type": "display_data"
    },
    {
     "name": "stdout",
     "output_type": "stream",
     "text": [
      "Running round 2 / 5 of ILO.\n"
     ]
    },
    {
     "data": {
      "application/vnd.jupyter.widget-view+json": {
       "model_id": "9c2b698be1e94bd29faa9de14206293d",
       "version_major": 2,
       "version_minor": 0
      },
      "text/plain": [
       "  0%|          | 0/1000 [00:00<?, ?it/s]"
      ]
     },
     "metadata": {},
     "output_type": "display_data"
    },
    {
     "name": "stdout",
     "output_type": "stream",
     "text": [
      "Running round 3 / 5 of ILO.\n"
     ]
    },
    {
     "data": {
      "application/vnd.jupyter.widget-view+json": {
       "model_id": "c8ae6daf65e141c4b97c66ed1c28743c",
       "version_major": 2,
       "version_minor": 0
      },
      "text/plain": [
       "  0%|          | 0/1000 [00:00<?, ?it/s]"
      ]
     },
     "metadata": {},
     "output_type": "display_data"
    },
    {
     "name": "stdout",
     "output_type": "stream",
     "text": [
      "Running round 4 / 5 of ILO.\n"
     ]
    },
    {
     "data": {
      "application/vnd.jupyter.widget-view+json": {
       "model_id": "9f1c7912ad584e80864566023ea21718",
       "version_major": 2,
       "version_minor": 0
      },
      "text/plain": [
       "  0%|          | 0/1000 [00:00<?, ?it/s]"
      ]
     },
     "metadata": {},
     "output_type": "display_data"
    },
    {
     "name": "stdout",
     "output_type": "stream",
     "text": [
      "Running round 5 / 5 of ILO.\n"
     ]
    },
    {
     "data": {
      "application/vnd.jupyter.widget-view+json": {
       "model_id": "a7a3bad378fd40a2a8d7a9e3a8885dae",
       "version_major": 2,
       "version_minor": 0
      },
      "text/plain": [
       "  0%|          | 0/2000 [00:00<?, ?it/s]"
      ]
     },
     "metadata": {},
     "output_type": "display_data"
    },
    {
     "name": "stdout",
     "output_type": "stream",
     "text": [
      "********** PSNR Per image 22.20677705757425 **********\n",
      "Number of images recovered 1 Out of 3\n",
      "Running round 1 / 5 of ILO.\n"
     ]
    },
    {
     "data": {
      "application/vnd.jupyter.widget-view+json": {
       "model_id": "a05224e44a2f48a2972175cb6a7f6316",
       "version_major": 2,
       "version_minor": 0
      },
      "text/plain": [
       "  0%|          | 0/2000 [00:00<?, ?it/s]"
      ]
     },
     "metadata": {},
     "output_type": "display_data"
    },
    {
     "name": "stdout",
     "output_type": "stream",
     "text": [
      "Running round 2 / 5 of ILO.\n"
     ]
    },
    {
     "data": {
      "application/vnd.jupyter.widget-view+json": {
       "model_id": "cd1627d7d6d740488bb2a2c89cccac8b",
       "version_major": 2,
       "version_minor": 0
      },
      "text/plain": [
       "  0%|          | 0/1000 [00:00<?, ?it/s]"
      ]
     },
     "metadata": {},
     "output_type": "display_data"
    },
    {
     "name": "stdout",
     "output_type": "stream",
     "text": [
      "Running round 3 / 5 of ILO.\n"
     ]
    },
    {
     "data": {
      "application/vnd.jupyter.widget-view+json": {
       "model_id": "64d94897e9dc49c08ea5249cf282b9fc",
       "version_major": 2,
       "version_minor": 0
      },
      "text/plain": [
       "  0%|          | 0/1000 [00:00<?, ?it/s]"
      ]
     },
     "metadata": {},
     "output_type": "display_data"
    },
    {
     "name": "stdout",
     "output_type": "stream",
     "text": [
      "Running round 4 / 5 of ILO.\n"
     ]
    },
    {
     "data": {
      "application/vnd.jupyter.widget-view+json": {
       "model_id": "b23535e0c9534d218385591dfb66433c",
       "version_major": 2,
       "version_minor": 0
      },
      "text/plain": [
       "  0%|          | 0/1000 [00:00<?, ?it/s]"
      ]
     },
     "metadata": {},
     "output_type": "display_data"
    },
    {
     "name": "stdout",
     "output_type": "stream",
     "text": [
      "Running round 5 / 5 of ILO.\n"
     ]
    },
    {
     "data": {
      "application/vnd.jupyter.widget-view+json": {
       "model_id": "aadb02af5fbc4e9db7292c9ebf0f3e74",
       "version_major": 2,
       "version_minor": 0
      },
      "text/plain": [
       "  0%|          | 0/2000 [00:00<?, ?it/s]"
      ]
     },
     "metadata": {},
     "output_type": "display_data"
    },
    {
     "name": "stdout",
     "output_type": "stream",
     "text": [
      "********** PSNR Per image 21.22516127445275 **********\n",
      "Number of images recovered 2 Out of 3\n",
      "Running round 1 / 5 of ILO.\n"
     ]
    },
    {
     "data": {
      "application/vnd.jupyter.widget-view+json": {
       "model_id": "09af6ccb58a748bbbafed3a0cd5b9d3f",
       "version_major": 2,
       "version_minor": 0
      },
      "text/plain": [
       "  0%|          | 0/2000 [00:00<?, ?it/s]"
      ]
     },
     "metadata": {},
     "output_type": "display_data"
    },
    {
     "name": "stdout",
     "output_type": "stream",
     "text": [
      "Running round 2 / 5 of ILO.\n"
     ]
    },
    {
     "data": {
      "application/vnd.jupyter.widget-view+json": {
       "model_id": "c9555cf98e2c4587838c3a1e90a139a9",
       "version_major": 2,
       "version_minor": 0
      },
      "text/plain": [
       "  0%|          | 0/1000 [00:00<?, ?it/s]"
      ]
     },
     "metadata": {},
     "output_type": "display_data"
    },
    {
     "name": "stdout",
     "output_type": "stream",
     "text": [
      "Running round 3 / 5 of ILO.\n"
     ]
    },
    {
     "data": {
      "application/vnd.jupyter.widget-view+json": {
       "model_id": "005b699ea6a140ab8c6e27b978da240a",
       "version_major": 2,
       "version_minor": 0
      },
      "text/plain": [
       "  0%|          | 0/1000 [00:00<?, ?it/s]"
      ]
     },
     "metadata": {},
     "output_type": "display_data"
    },
    {
     "name": "stdout",
     "output_type": "stream",
     "text": [
      "Running round 4 / 5 of ILO.\n"
     ]
    },
    {
     "data": {
      "application/vnd.jupyter.widget-view+json": {
       "model_id": "6b29bf7643ad40c0b6f679bd280be406",
       "version_major": 2,
       "version_minor": 0
      },
      "text/plain": [
       "  0%|          | 0/1000 [00:00<?, ?it/s]"
      ]
     },
     "metadata": {},
     "output_type": "display_data"
    },
    {
     "name": "stdout",
     "output_type": "stream",
     "text": [
      "Running round 5 / 5 of ILO.\n"
     ]
    },
    {
     "data": {
      "application/vnd.jupyter.widget-view+json": {
       "model_id": "c60de3e5377847329eaba084d47f59d6",
       "version_major": 2,
       "version_minor": 0
      },
      "text/plain": [
       "  0%|          | 0/2000 [00:00<?, ?it/s]"
      ]
     },
     "metadata": {},
     "output_type": "display_data"
    },
    {
     "name": "stdout",
     "output_type": "stream",
     "text": [
      "********** PSNR Per image 22.598680111370196 **********\n",
      "Number of images recovered 3 Out of 3\n",
      "********** Percentage of Measurements End of Experiment 1 **********\n",
      "********** Percentage of Measurements 1 **********\n",
      "********** PSNR 22.010206147799067 **********\n"
     ]
    }
   ],
   "source": [
    "with open('config.yaml') as f:\n",
    "    configs = yaml.safe_load(f)\n",
    "van_configs=configs.get('Vanilla')\n",
    "trans = transforms.Compose([transforms.Resize((van_configs['image_size'])),transforms.ToTensor()])\n",
    "test_dataset    = datasets.ImageFolder(van_configs['test_set'], transform=trans)\n",
    "test_dataloader = torch.utils.data.DataLoader(test_dataset,batch_size=van_configs['batch_size'],drop_last=False,shuffle=False)\n",
    "for measurements in van_configs['perc_m']:\n",
    "    original=[]\n",
    "    recovered=[]\n",
    "    print('*'*10,'Percentage of Measurements',measurements,'*'*10)\n",
    "    for i, data in enumerate(test_dataloader):\n",
    "        latent_opt=LatentOptimizer(van_configs,measurements)\n",
    "        img=data[0].to(van_configs['device'])\n",
    "        org_img,latent,img_gen=latent_opt.invert(img)\n",
    "        original.append(org_img)\n",
    "        recovered.append(np.clip(img_gen,0,1))\n",
    "        psnr_img=compare_psnr(original[i], recovered[i])\n",
    "        print('*'*10,'PSNR Per image',psnr_img,'*'*10)\n",
    "        print('Number of images recovered',i+1, 'Out of',len(test_dataloader))\n",
    "        torch.cuda.empty_cache()\n",
    "    Original  = np.vstack(original)\n",
    "    Recovered = np.vstack(recovered)\n",
    "    print('*'*10,'Percentage of Measurements End of Experiment',measurements,'*'*10)\n",
    "    psnr      = [compare_psnr(x, y) for x,y in zip(Original, Recovered)]\n",
    "    print('*'*10,'Percentage of Measurements',measurements,'*'*10)\n",
    "    print('*'*10,'PSNR',np.mean(psnr),'*'*10)\n",
    "    original.clear()\n",
    "    recovered.clear()\n",
    "    path=van_configs['save_folder']\n",
    "    if not os.path.exists(path):\n",
    "        os.makedirs(path)\n",
    "             \n",
    "    np.save(path+\"/original.npy\", Original)\n",
    "    np.save(path+\"/recovered_\"+ str(measurements)+ \"%\" + \".npy\", Recovered)\n",
    "    np.save(path+\"/psnr_\" + str(measurements)+ \"%\" + \".npy\",np.mean(psnr))\n",
    "\n"
   ]
  },
  {
   "cell_type": "markdown",
   "id": "08d86bbb",
   "metadata": {},
   "source": [
    "## Make Results"
   ]
  },
  {
   "cell_type": "code",
   "execution_count": 6,
   "id": "914c54f6",
   "metadata": {},
   "outputs": [],
   "source": [
    "\n",
    "def get_psnr_results(direct):\n",
    "    results={}\n",
    "    myfiles = [myfile for myfile in os.listdir(direct) if myfile.startswith(\"psnr\")]\n",
    "    for files in myfiles:\n",
    "        psnr=np.load(direct + files)\n",
    "        no_meas=int(re.search(r'\\d+', files)[0])\n",
    "        results[no_meas]=psnr\n",
    "    return results \n",
    "\n",
    "    "
   ]
  },
  {
   "cell_type": "code",
   "execution_count": 7,
   "id": "d49dd8d5",
   "metadata": {},
   "outputs": [
    {
     "data": {
      "image/png": "[encoded data removed]",
      "text/plain": [
       "<Figure size 612x468 with 1 Axes>"
      ]
     },
     "metadata": {
      "needs_background": "light"
     },
     "output_type": "display_data"
    }
   ],
   "source": [
    "fig = plt.gcf()\n",
    "fig.set_size_inches(8.5, 6.5)\n",
    "van_results=get_psnr_results('./results/van/')\n",
    "rtil_results=get_psnr_results('./results/rtil/')\n",
    "ilo = sorted(van_results.items(),reverse=True) \n",
    "rtil= sorted(rtil_results.items(),reverse=True) \n",
    "m, psnr_ilo = zip(*ilo) \n",
    "m, psnr_rtil = zip(*rtil) \n",
    "plt.plot(m, psnr_ilo,marker='o',markersize=12,label='ILO')\n",
    "plt.plot(m, psnr_rtil,marker='s',markersize=12,label='RTIL-ILO')\n",
    "plt.xlabel('Percentage of Measurements',fontsize=20)\n",
    "plt.ylabel('PSNR',fontsize=20)\n",
    "plt.legend()\n",
    "plt.grid()\n",
    "plt.title('Compressed Sensing with Circulant Matrices',fontsize=20)\n",
    "plt.tight_layout()\n",
    "plt.show()\n"
   ]
  },
  {
   "cell_type": "code",
   "execution_count": null,
   "id": "e6ec5cb7",
   "metadata": {},
   "outputs": [],
   "source": []
  }
 ],
 "metadata": {
  "kernelspec": {
   "display_name": "Python 3 (ipykernel)",
   "language": "python",
   "name": "python3"
  },
  "language_info": {
   "codemirror_mode": {
    "name": "ipython",
    "version": 3
   },
   "file_extension": ".py",
   "mimetype": "text/x-python",
   "name": "python",
   "nbconvert_exporter": "python",
   "pygments_lexer": "ipython3",
   "version": "3.8.10"
  }
 },
 "nbformat": 4,
 "nbformat_minor": 5
}
